{
 "cells": [
  {
   "cell_type": "markdown",
   "metadata": {},
   "source": [
    "<p style=\"text-align:center\">\n",
    "    <a href=\"https://skills.network\" target=\"_blank\">\n",
    "    <img src=\"https://cf-courses-data.s3.us.cloud-object-storage.appdomain.cloud/assets/logos/SN_web_lightmode.png\" width=\"200\" alt=\"Skills Network Logo\">\n",
    "    </a>\n",
    "</p>\n"
   ]
  },
  {
   "cell_type": "markdown",
   "metadata": {},
   "source": [
    "# **Building and Training a Feedforward Neural Network for Language Modeling**\n",
    "\n",
    "Estimated time needed: **60** minutes\n",
    "\n",
    "This project explores the use of Feedforward Neural Networks (FNNs) in language modeling. The primary objective is to build a neural network that learns word relationships and generates meaningful text sequences. The implementation is done using PyTorch, covering key aspects of Natural Language Processing (NLP), such as:\n",
    "* Tokenization & Indexing: Converting text into numerical representations.\n",
    "* Embedding Layers: Mapping words to dense vector representations for efficient learning.\n",
    "* Context-Target Pair Generation (N-grams): Structuring training data for sequence prediction.\n",
    "* Multi-Class Neural Network: Designing a model to predict the next word in a sequence.\n",
    "\n",
    "The training process includes optimizing the model with loss functions and backpropagation techniques to improve accuracy and coherence in text generation. By the end of the project, you will have a working FNN-based language model capable of generating text sequences.\n",
    "<div style=\"text-align:center;\">\n",
    "    <img src=\"https://cf-courses-data.s3.us.cloud-object-storage.appdomain.cloud/IBM-GPXX0WSVEN/song%20%281%29.png\" alt=\"Image Description\">\n",
    "</div>\n"
   ]
  },
  {
   "cell_type": "markdown",
   "metadata": {},
   "source": [
    "# __Table of Contents__\n",
    "\n",
    "<ol>\n",
    "    <li><a href=\"#Objectives\">Objectives</a></li>\n",
    "    <li>\n",
    "        <a href=\"#Setup\">Setup</a>\n",
    "        <ol>\n",
    "            <li><a href=\"#Installing-required-libraries\">Installing required libraries</a></li>\n",
    "            <li><a href=\"#Importing-required-libraries\">Importing required libraries</a></li>\n",
    "            <li><a href=\"#Defining-helper-functions\">Defining helper functions</a></li>\n",
    "        </ol>\n",
    "    </li>\n",
    "    <li>\n",
    "       <a href=\"#Feedforward-Neural-Networks-(FNNs)-for-language-models\">Feedforward Neural Networks (FNNs) for language models</a></li>\n",
    "        <ol>\n",
    "            <li><a href=\"#Tokenization-for-FNN\">Tokenization for FNN</a></li>\n",
    "            <li><a href=\"#Indexing\">Indexing</a></li>\n",
    "            <li><a href=\"#Embedding-layers\">Embedding layers</a></li>\n",
    "        </ol>\n",
    "</li>\n",
    "    <li><a href=\"#Generating-context-target-pairs-(n-grams)\">Generating context-target pairs (n-grams)</a></li>\n",
    "    <ol>\n",
    "        <li><a href=\"#Batch-function\">Batch function</a></li>\n",
    "        <li><a href=\"#Multi-class-neural-network\">Multi-class neural network</a></li>\n",
    "    </ol>\n",
    "    <li><a href=\"#Training\">Training</a></li>\n",
    "    </li>\n",
    "    <li><a href=\"#Exercises\">Exercises</a></li>\n",
    "    </li>\n",
    "</ol>\n"
   ]
  },
  {
   "cell_type": "markdown",
   "metadata": {},
   "source": [
    "---\n"
   ]
  },
  {
   "cell_type": "markdown",
   "metadata": {},
   "source": [
    "# Objectives\n",
    "\n",
    "After completing this lab, you will be able to:\n",
    "\n",
    " - Implement a feedforward neural network using the PyTorch framework, including embedding layers, for language modeling tasks.\n",
    " - Fine-tune the output layer of the neural network for optimal performance in text generation.\n",
    " - Apply various training strategies and fundamental Natural Language Processing (NLP) techniques, such as tokenization and sequence analysis, to improve text generation.\n"
   ]
  },
  {
   "cell_type": "markdown",
   "metadata": {},
   "source": [
    "---\n"
   ]
  },
  {
   "cell_type": "markdown",
   "metadata": {},
   "source": [
    "# Setup\n"
   ]
  },
  {
   "cell_type": "markdown",
   "metadata": {},
   "source": [
    "For this lab, you will use the following libraries:\n",
    "\n",
    "*   [`pandas`](https://pandas.pydata.org/?utm_medium=Exinfluencer&utm_source=Exinfluencer&utm_content=000026UJ&utm_term=10006555&utm_id=NA-SkillsNetwork-Channel-SkillsNetworkCoursesIBMML0187ENSkillsNetwork31430127-2021-01-01) for managing the data.\n",
    "*   [`numpy`](https://numpy.org/?utm_medium=Exinfluencer&utm_source=Exinfluencer&utm_content=000026UJ&utm_term=10006555&utm_id=NA-SkillsNetwork-Channel-SkillsNetworkCoursesIBMML0187ENSkillsNetwork31430127-2021-01-01) for mathematical operations.\n",
    "*   [`sklearn`](https://scikit-learn.org/stable/?utm_medium=Exinfluencer&utm_source=Exinfluencer&utm_content=000026UJ&utm_term=10006555&utm_id=NA-SkillsNetwork-Channel-SkillsNetworkCoursesIBMML0187ENSkillsNetwork31430127-2021-01-01) for machine learning and machine-learning-pipeline related functions.\n",
    "*   [`seaborn`](https://seaborn.pydata.org/?utm_medium=Exinfluencer&utm_source=Exinfluencer&utm_content=000026UJ&utm_term=10006555&utm_id=NA-SkillsNetwork-Channel-SkillsNetworkCoursesIBMML0187ENSkillsNetwork31430127-2021-01-01) for visualizing the data.\n",
    "*   [`matplotlib`](https://matplotlib.org/?utm_medium=Exinfluencer&utm_source=Exinfluencer&utm_content=000026UJ&utm_term=10006555&utm_id=NA-SkillsNetwork-Channel-SkillsNetworkCoursesIBMML0187ENSkillsNetwork31430127-2021-01-01) for additional plotting tools.\n"
   ]
  },
  {
   "cell_type": "markdown",
   "metadata": {},
   "source": [
    "### Installing required libraries\n",
    "\n",
    "All the required libraries are pre-installed in the Skills Network Labs environment. However, if you run this notebook commands in a different Jupyter environment (e.g. Watson Studio or Ananconda), you will need to install these libraries using the code cell below.\n",
    "\n",
    "<h2 style=\"color:red;\">After installing the libraries below please RESTART THE KERNEL and run all cells.</h2>\n"
   ]
  },
  {
   "cell_type": "code",
   "execution_count": 2,
   "metadata": {},
   "outputs": [],
   "source": [
    "%%capture\n",
    "!pip install nltk\n",
    "!pip install scikit-learn\n",
    "!pip install torch==2.6.0\n",
    "!pip install torchtext==0.17.2\n",
    "!pip install matplotlib\n",
    "!pip install pandas\n",
    "!pip install numpy==1.26.4"
   ]
  },
  {
   "cell_type": "markdown",
   "metadata": {},
   "source": [
    "__Note__: The following required libraries are __not__ pre-installed in the Skills Network Labs environment. __You will need to run the following cell__ to install them:\n"
   ]
  },
  {
   "cell_type": "markdown",
   "metadata": {},
   "source": [
    "### Importing required libraries\n",
    "\n",
    "_It is recommended that you import all required libraries in one place (here):_\n"
   ]
  },
  {
   "cell_type": "code",
   "execution_count": 1,
   "metadata": {},
   "outputs": [],
   "source": [
    "%%capture\n",
    "import warnings\n",
    "from tqdm import tqdm\n",
    "\n",
    "warnings.simplefilter('ignore')\n",
    "import time\n",
    "from collections import OrderedDict\n",
    "\n",
    "import re\n",
    "\n",
    "import numpy as np\n",
    "import matplotlib.pyplot as plt\n",
    "import pandas as pd\n",
    "import random\n",
    "\n",
    "import nltk\n",
    "nltk.download('punkt')\n",
    "nltk.download('punkt_tab')\n",
    "\n",
    "import torch\n",
    "import torch.nn as nn\n",
    "import torch.nn.functional as F\n",
    "import torch.optim as optim\n",
    "import string\n",
    "import time\n",
    "from torchtext.data.utils import get_tokenizer\n",
    "from torchtext.vocab import build_vocab_from_iterator\n",
    "from nltk.tokenize import word_tokenize\n",
    "\n",
    "import matplotlib.pyplot as plt\n",
    "from sklearn.manifold import TSNE\n",
    "\n",
    "# You can also use this section to suppress warnings generated by your code:\n",
    "def warn(*args, **kwargs):\n",
    "    pass\n",
    "import warnings\n",
    "warnings.warn = warn\n",
    "%capture"
   ]
  },
  {
   "cell_type": "markdown",
   "metadata": {},
   "source": [
    "---\n"
   ]
  },
  {
   "cell_type": "markdown",
   "metadata": {},
   "source": [
    "## Feedforward Neural Networks (FNNs) for language models\n",
    "\n",
    "FNNs, or Multi-Layer Perceptrons, serve as the foundational components for comprehending neural networks in natural language processing (NLP). In NLP tasks, FNNs process textual data by transforming it into numerical vectors known as embeddings. Subsequently, these embeddings are input to the network to predict language facets, such as the upcoming word in a sentence or the sentiment of a text.\n",
    "\n",
    "Let's consider the following song lyrics for our analysis.\n"
   ]
  },
  {
   "cell_type": "code",
   "execution_count": 2,
   "metadata": {},
   "outputs": [],
   "source": [
    "song= \"\"\"We are no strangers to love\n",
    "You know the rules and so do I\n",
    "A full commitments what Im thinking of\n",
    "You wouldnt get this from any other guy\n",
    "I just wanna tell you how Im feeling\n",
    "Gotta make you understand\n",
    "Never gonna give you up\n",
    "Never gonna let you down\n",
    "Never gonna run around and desert you\n",
    "Never gonna make you cry\n",
    "Never gonna say goodbye\n",
    "Never gonna tell a lie and hurt you\n",
    "Weve known each other for so long\n",
    "Your hearts been aching but youre too shy to say it\n",
    "Inside we both know whats been going on\n",
    "We know the game and were gonna play it\n",
    "And if you ask me how Im feeling\n",
    "Dont tell me youre too blind to see\n",
    "Never gonna give you up\n",
    "Never gonna let you down\n",
    "Never gonna run around and desert you\n",
    "Never gonna make you cry\n",
    "Never gonna say goodbye\n",
    "Never gonna tell a lie and hurt you\n",
    "Never gonna give you up\n",
    "Never gonna let you down\n",
    "Never gonna run around and desert you\n",
    "Never gonna make you cry\n",
    "Never gonna say goodbye\n",
    "Never gonna tell a lie and hurt you\n",
    "Weve known each other for so long\n",
    "Your hearts been aching but youre too shy to say it\n",
    "Inside we both know whats been going on\n",
    "We know the game and were gonna play it\n",
    "I just wanna tell you how Im feeling\n",
    "Gotta make you understand\n",
    "Never gonna give you up\n",
    "Never gonna let you down\n",
    "Never gonna run around and desert you\n",
    "Never gonna make you cry\n",
    "Never gonna say goodbye\n",
    "Never gonna tell a lie and hurt you\n",
    "Never gonna give you up\n",
    "Never gonna let you down\n",
    "Never gonna run around and desert you\n",
    "Never gonna make you cry\n",
    "Never gonna say goodbye\n",
    "Never gonna tell a lie and hurt you\n",
    "Never gonna give you up\n",
    "Never gonna let you down\n",
    "Never gonna run around and desert you\n",
    "Never gonna make you cry\n",
    "Never gonna say goodbye\n",
    "Never gonna tell a lie and hurt you\"\"\""
   ]
  },
  {
   "cell_type": "markdown",
   "metadata": {},
   "source": [
    " ### Tokenization for FNN\n"
   ]
  },
  {
   "cell_type": "markdown",
   "metadata": {},
   "source": [
    " This PyTorch function is used to obtain a tokenizer for text.\n"
   ]
  },
  {
   "cell_type": "code",
   "execution_count": 3,
   "metadata": {},
   "outputs": [],
   "source": [
    "tokenizer = get_tokenizer(\"basic_english\")\n",
    "tokens=tokenizer(song)"
   ]
  },
  {
   "cell_type": "code",
   "execution_count": 4,
   "metadata": {},
   "outputs": [],
   "source": [
    "def preprocess_string(s):\n",
    "    \"\"\"\n",
    "    Preprocesses a given string by performing the following steps:\n",
    "    \n",
    "    1. Removes all non-word characters (excluding letters and numbers).\n",
    "    2. Removes all whitespace characters.\n",
    "    3. Removes all numeric digits.\n",
    "\n",
    "    Parameters:\n",
    "    s (str): The input string to be cleaned.\n",
    "\n",
    "    Returns:\n",
    "    str: The processed string with only alphabetic characters, no spaces, and no digits.\n",
    "    \"\"\"\n",
    "\n",
    "    # Remove all non-word characters (everything except letters and numbers)\n",
    "    # \\w matches any word character (letters, numbers, and underscores)\n",
    "    # \\s matches any whitespace characters\n",
    "    # ^ inside [] negates the selection, so [^\\w\\s] matches anything that's NOT a word character or whitespace.\n",
    "    s = re.sub(r\"[^\\w\\s]\", '', s)\n",
    "\n",
    "    # Remove all whitespace characters (spaces, tabs, newlines)\n",
    "    # \\s+ matches one or more whitespace characters.\n",
    "    s = re.sub(r\"\\s+\", '', s)\n",
    "\n",
    "    # Remove all digits (0-9)\n",
    "    # \\d matches any digit character.\n",
    "    s = re.sub(r\"\\d\", '', s)\n",
    "\n",
    "    return s"
   ]
  },
  {
   "cell_type": "code",
   "execution_count": 5,
   "metadata": {},
   "outputs": [],
   "source": [
    "def preprocess(words):\n",
    "    \"\"\"\n",
    "    Preprocesses a given text by tokenizing it, cleaning individual words, and \n",
    "    converting them to lowercase while removing empty or punctuation tokens.\n",
    "\n",
    "    Steps:\n",
    "    1. Tokenization: Splits the input text into individual word tokens.\n",
    "    2. Cleaning: Applies `preprocess_string()` to remove non-word characters, \n",
    "       spaces, and digits from each token.\n",
    "    3. Normalization: Converts all tokens to lowercase.\n",
    "    4. Filtering: Removes empty strings and punctuation tokens.\n",
    "\n",
    "    Parameters:\n",
    "    words (str): The input text to be tokenized and preprocessed.\n",
    "\n",
    "    Returns:\n",
    "    list: A list of cleaned, lowercase tokens.\n",
    "    \"\"\"\n",
    "\n",
    "    # Tokenize the input text into words\n",
    "    tokens = word_tokenize(words)\n",
    "\n",
    "    # Apply preprocessing to each token (removes unwanted characters)\n",
    "    tokens = [preprocess_string(w) for w in tokens]\n",
    "\n",
    "    # Convert tokens to lowercase and remove empty strings or punctuation\n",
    "    return [w.lower() for w in tokens if len(w) != 0 and w not in string.punctuation]\n",
    "\n",
    "# Example usage:\n",
    "tokens = preprocess(song)  # Preprocess the text in 'song'"
   ]
  },
  {
   "cell_type": "markdown",
   "metadata": {},
   "source": [
    "### Indexing\n",
    "\n",
    "TorchText provides tools to tokenize text into individual words (tokens) and build a vocabulary, which maps tokens to unique integer indexes. This is a crucial step in preparing text data for  machine learning models that require numerical input.\n"
   ]
  },
  {
   "cell_type": "code",
   "execution_count": 6,
   "metadata": {},
   "outputs": [],
   "source": [
    "def tokenizetext(song):\n",
    "    \"\"\"\n",
    "    Tokenizes the input text (song) and builds a vocabulary from the tokens.\n",
    "\n",
    "    Steps:\n",
    "    1. Tokenization: The function splits the input text into words and applies \n",
    "       a tokenizer function to each word.\n",
    "    2. Vocabulary Building: Constructs a vocabulary from the tokenized words,\n",
    "       including a special \"<unk>\" token to handle out-of-vocabulary words.\n",
    "    3. Default Indexing: Sets the default index for unknown words, ensuring \n",
    "       that any unseen tokens are mapped to \"<unk>\".\n",
    "\n",
    "    Parameters:\n",
    "    song (str): The input text (song lyrics) to be tokenized and processed.\n",
    "\n",
    "    Returns:\n",
    "    vocab (Vocab): A vocabulary object mapping tokens to their corresponding indices.\n",
    "    \"\"\"\n",
    "\n",
    "    # Tokenize the text\n",
    "    # Split the input text into words and apply the tokenizer function to each word.\n",
    "    # The 'map' function ensures that each word is tokenized properly.\n",
    "    tokenized_song = map(tokenizer, song.split())\n",
    "\n",
    "    # Build vocabulary from tokenized text\n",
    "    # The function `build_vocab_from_iterator` constructs a vocabulary by iterating \n",
    "    # over the tokenized words. The special token \"<unk>\" is added to handle words \n",
    "    # that are not present in the vocabulary.\n",
    "    vocab = build_vocab_from_iterator(tokenized_song, specials=[\"<unk>\"])\n",
    "\n",
    "    # Set the default index for unknown words\n",
    "    # The default index is set to the index of \"<unk>\" so that any word not found \n",
    "    # in the vocabulary is mapped to this token, preventing errors during lookup.\n",
    "    vocab.set_default_index(vocab[\"<unk>\"])\n",
    "\n",
    "    return vocab\n"
   ]
  },
  {
   "cell_type": "markdown",
   "metadata": {},
   "source": [
    "Convert the tokens to indices by applying the function as shown here:\n"
   ]
  },
  {
   "cell_type": "code",
   "execution_count": 7,
   "metadata": {},
   "outputs": [
    {
     "data": {
      "text/plain": [
       "[21, 58, 70, 74, 25, 69, 2, 20, 31, 72]"
      ]
     },
     "execution_count": 7,
     "metadata": {},
     "output_type": "execute_result"
    }
   ],
   "source": [
    "vocab=tokenizetext(song)\n",
    "vocab(tokens[0:10])"
   ]
  },
  {
   "cell_type": "code",
   "execution_count": 8,
   "metadata": {},
   "outputs": [
    {
     "data": {
      "text/plain": [
       "['we', 'are', 'no', 'strangers', 'to', 'love', 'you', 'know', 'the', 'rules']"
      ]
     },
     "execution_count": 8,
     "metadata": {},
     "output_type": "execute_result"
    }
   ],
   "source": [
    "tokens[0:10]"
   ]
  },
  {
   "cell_type": "markdown",
   "metadata": {},
   "source": [
    "\n",
    "\n",
    "Write a text function that converts raw text into indexes.\n"
   ]
  },
  {
   "cell_type": "code",
   "execution_count": 9,
   "metadata": {},
   "outputs": [
    {
     "data": {
      "text/plain": [
       "[21, 58, 70, 74, 25, 69, 2, 20, 31, 72]"
      ]
     },
     "execution_count": 9,
     "metadata": {},
     "output_type": "execute_result"
    }
   ],
   "source": [
    "text_pipeline = lambda x: vocab(tokenizer(x))\n",
    "text_pipeline(song)[0:10]"
   ]
  },
  {
   "cell_type": "markdown",
   "metadata": {},
   "source": [
    "\n",
    "Find the word corresponding to an index using the```get_itos()```method. The result is a list where the index of the list corresponds to a word.\n"
   ]
  },
  {
   "cell_type": "code",
   "execution_count": 11,
   "metadata": {},
   "outputs": [
    {
     "data": {
      "text/plain": [
       "'around'"
      ]
     },
     "execution_count": 11,
     "metadata": {},
     "output_type": "execute_result"
    }
   ],
   "source": [
    "index_to_token = vocab.get_itos()\n",
    "index_to_token[9]"
   ]
  },
  {
   "cell_type": "markdown",
   "metadata": {},
   "source": [
    "## Embedding layers\n",
    "\n",
    "An embedding layer is a crucial element in natural language processing (NLP) and neural networks designed for sequential data. It serves to convert categorical variables, like words or discrete indexes representing tokens, into continuous vectors. This transformation facilitates training and enables the network to learn meaningful relationships among words.\n",
    "\n",
    "Let's consider a simple example involving a vocabulary of words \n",
    "- **Vocabulary**: {apple, banana, orange, pear}\n",
    "\n",
    "Each word in your vocabulary has a unique index assigned to it: \n",
    "- **Indices**: {0, 1, 2, 3}\n",
    "\n",
    "When using an embedding layer, you will initialize random continuous vectors for each index. For instance, the embedding vectors might look like:\n",
    "\n",
    "- Vector for index 0 (apple): [0.2, 0.8]\n",
    "- Vector for index 1 (banana): [0.6, -0.5]\n",
    "- Vector for index 2 (orange): [-0.3, 0.7]\n",
    "- Vector for index 3 (pear): [0.1, 0.4]\n",
    "In PyTorch, you can create an embedding layer.\n"
   ]
  },
  {
   "cell_type": "code",
   "execution_count": 12,
   "metadata": {},
   "outputs": [],
   "source": [
    "def genembedding(vocab):\n",
    "    \"\"\"\n",
    "    Generates an embedding layer for the given vocabulary.\n",
    "\n",
    "    The embedding layer transforms words into dense vector representations, \n",
    "    allowing the model to learn semantic relationships between words.\n",
    "\n",
    "    Parameters:\n",
    "    vocab (Vocab): The vocabulary object containing unique words and their indices.\n",
    "\n",
    "    Returns:\n",
    "    nn.Embedding: A PyTorch embedding layer with a specified embedding dimension.\n",
    "    \"\"\"\n",
    "\n",
    "    # Define the embedding dimension (size of word vectors)\n",
    "    embedding_dim = 20  # Each word will be represented as a 20-dimensional vector\n",
    "\n",
    "    # Get the vocabulary size (number of unique words in the vocabulary)\n",
    "    vocab_size = len(vocab)\n",
    "\n",
    "    # Create an embedding layer\n",
    "    # The nn.Embedding module maps word indices to dense vector representations.\n",
    "    # It takes vocab_size as the number of words and embedding_dim as the vector size.\n",
    "    embeddings = nn.Embedding(vocab_size, embedding_dim)\n",
    "\n",
    "    return embeddings"
   ]
  },
  {
   "cell_type": "markdown",
   "metadata": {},
   "source": [
    "\n",
    "**Embeddings**: Obtain the embedding for the first word with index 0 or 1. Don't forget that you have to convert the input into a tensor. The embeddings are initially initialized randomly, but as the model undergoes training, words with similar meanings gradually come to cluster closer together\n"
   ]
  },
  {
   "cell_type": "code",
   "execution_count": 13,
   "metadata": {},
   "outputs": [
    {
     "name": "stdout",
     "output_type": "stream",
     "text": [
      "word <unk>\n",
      "index 0\n",
      "embedding tensor([-0.5479, -1.2088,  0.2446,  0.5920, -2.3780,  0.2926, -1.3406, -0.9675,\n",
      "        -0.5539,  0.0693, -0.4948,  1.1012,  0.6142,  1.1895,  1.1747,  0.9650,\n",
      "        -1.5706, -0.6197, -1.6407,  0.7450], grad_fn=<EmbeddingBackward0>)\n",
      "embedding shape torch.Size([20])\n",
      "word gonna\n",
      "index 1\n",
      "embedding tensor([-0.5734, -0.7019,  0.5920,  1.2220,  0.3462,  0.5785,  0.3057, -1.0971,\n",
      "        -1.3397, -0.5044,  0.6732,  1.4434,  1.6075,  0.3070, -1.0014, -0.4481,\n",
      "         0.0187, -0.4371,  0.3832,  1.8563], grad_fn=<EmbeddingBackward0>)\n",
      "embedding shape torch.Size([20])\n"
     ]
    }
   ],
   "source": [
    "embeddings=genembedding(vocab)\n",
    "for n in range(2): \n",
    "    embedding=embeddings(torch.tensor(n))\n",
    "    print(\"word\",index_to_token[n])\n",
    "    print(\"index\",n)\n",
    "    print( \"embedding\", embedding)\n",
    "    print(\"embedding shape\", embedding.shape)"
   ]
  },
  {
   "cell_type": "markdown",
   "metadata": {},
   "source": [
    "These vectors will serve as inputs for the next layer.\n"
   ]
  },
  {
   "cell_type": "markdown",
   "metadata": {},
   "source": [
    "### Generating context-target pairs (n-grams)\n",
    "\n",
    "Organize words within a variable-size context using the following approach: Each word is denoted by 'i'. \n",
    "To establish the context, simply subtract 'j'. The size of the context is determined by the value of``CONTEXT_SIZE``.\n"
   ]
  },
  {
   "cell_type": "code",
   "execution_count": 14,
   "metadata": {},
   "outputs": [],
   "source": [
    "# Define the context size for generating n-grams\n",
    "CONTEXT_SIZE = 2  # The number of previous words used to predict the next word\n",
    "\n",
    "def genngrams(tokens):\n",
    "    \"\"\"\n",
    "    Generates n-grams from a list of tokens, where each n-gram consists of a \n",
    "    context (previous words) and a target (next word).\n",
    "\n",
    "    The function constructs a list of tuples where:\n",
    "    - The first element is a list of `CONTEXT_SIZE` previous words.\n",
    "    - The second element is the target word that follows the context.\n",
    "\n",
    "    Parameters:\n",
    "    tokens (list): A list of preprocessed word tokens.\n",
    "\n",
    "    Returns:\n",
    "    list: A list of tuples representing n-grams.\n",
    "          Each tuple contains (context_words, target_word).\n",
    "    \"\"\"\n",
    "\n",
    "    # Generate n-grams\n",
    "    # Iterate through the tokens starting from index CONTEXT_SIZE to the end\n",
    "    # For each token at position 'i', extract the previous CONTEXT_SIZE words as context\n",
    "    ngrams = [\n",
    "        (\n",
    "            [tokens[i - j - 1] for j in range(CONTEXT_SIZE)],  # Context words (previous words)\n",
    "            tokens[i]  # Target word (the word to predict)\n",
    "        )\n",
    "        for i in range(CONTEXT_SIZE, len(tokens))\n",
    "    ]\n",
    "\n",
    "    return ngrams\n"
   ]
  },
  {
   "cell_type": "markdown",
   "metadata": {},
   "source": [
    "Output the first element, which results in a tuple. The initial element represents the context, and the index indicates the following word.\n"
   ]
  },
  {
   "cell_type": "code",
   "execution_count": 15,
   "metadata": {},
   "outputs": [
    {
     "name": "stdout",
     "output_type": "stream",
     "text": [
      "context ['are', 'we'] target no\n",
      "context index [58, 21] target index [70]\n"
     ]
    }
   ],
   "source": [
    "ngrams=genngrams(tokens)\n",
    "context, target=ngrams[0]\n",
    "print(\"context\",context,\"target\",target)\n",
    "print(\"context index\",vocab(context),\"target index\",vocab([target]))"
   ]
  },
  {
   "cell_type": "markdown",
   "metadata": {},
   "source": [
    "In this context, there are multiple words. Aggregate the embeddings of each of these words and then adjust the input size of the subsequent layer accordingly. Then, create the next layer.\n"
   ]
  },
  {
   "cell_type": "code",
   "execution_count": 16,
   "metadata": {},
   "outputs": [],
   "source": [
    "embedding_dim=20\n",
    "linear = nn.Linear(embedding_dim*CONTEXT_SIZE,128)"
   ]
  },
  {
   "cell_type": "markdown",
   "metadata": {},
   "source": [
    "\n",
    "You have the two embeddings.\n"
   ]
  },
  {
   "cell_type": "code",
   "execution_count": 17,
   "metadata": {},
   "outputs": [
    {
     "data": {
      "text/plain": [
       "torch.Size([2, 20])"
      ]
     },
     "execution_count": 17,
     "metadata": {},
     "output_type": "execute_result"
    }
   ],
   "source": [
    "embeddings=genembedding(vocab)\n",
    "my_embeddings=embeddings(torch.tensor(vocab(context)))\n",
    "my_embeddings.shape"
   ]
  },
  {
   "cell_type": "markdown",
   "metadata": {},
   "source": [
    "Reshape the embeddings.\n"
   ]
  },
  {
   "cell_type": "code",
   "execution_count": 18,
   "metadata": {},
   "outputs": [
    {
     "data": {
      "text/plain": [
       "torch.Size([1, 40])"
      ]
     },
     "execution_count": 18,
     "metadata": {},
     "output_type": "execute_result"
    }
   ],
   "source": [
    "my_embeddings=my_embeddings.reshape(1,-1)\n",
    "my_embeddings.shape"
   ]
  },
  {
   "cell_type": "markdown",
   "metadata": {},
   "source": [
    "\n",
    "They can now be used as inputs in the next layer.\n"
   ]
  },
  {
   "cell_type": "code",
   "execution_count": 19,
   "metadata": {},
   "outputs": [
    {
     "data": {
      "text/plain": [
       "tensor([[-0.4431, -1.1072,  0.6987, -0.9169,  0.4182, -0.0624, -0.1517, -0.5436,\n",
       "         -0.0984,  0.6121,  0.2415, -0.5872, -0.1533, -0.9656, -0.1382,  0.1190,\n",
       "          0.5410, -0.3345, -1.1755, -0.8427, -0.0172,  0.4443, -0.0269,  0.6753,\n",
       "          0.7637, -0.0794, -0.0390, -1.1144,  0.3992,  0.5908,  0.7207,  0.9362,\n",
       "          0.1850, -0.2707, -0.9373,  0.6043, -0.1894, -1.1187, -0.8563,  0.0870,\n",
       "         -0.5474, -0.3050, -0.1046, -0.8126,  1.0205, -0.3202,  0.3897,  0.1168,\n",
       "         -0.2138,  0.7109, -0.7938,  0.3665, -0.0099, -0.1756, -0.5630,  0.2628,\n",
       "         -0.0287,  0.1206,  1.0722,  0.0864,  0.7338, -0.4271,  0.3943,  1.2232,\n",
       "          1.0014,  0.4460, -1.3914,  0.2842,  0.6459,  0.3484, -0.4399,  0.3222,\n",
       "          1.0236, -0.0244, -0.6205, -0.1307,  0.6931,  1.5137, -0.5548, -0.6630,\n",
       "         -0.4947, -0.0420,  0.0304, -0.0850, -0.7147, -0.9840, -0.1086,  0.5349,\n",
       "          0.8607,  0.8033,  0.4081,  0.1101, -0.2805,  0.6945,  0.6092,  0.9892,\n",
       "          0.0890,  0.1801,  0.0460,  0.6993,  0.4354,  0.2254,  0.7501,  0.1774,\n",
       "          0.4148, -0.1765,  0.5327, -0.0762, -0.4588,  0.0866, -0.6078, -0.8234,\n",
       "          0.5698, -0.1913, -0.9901,  0.0410, -0.5037,  0.6702,  0.0602, -1.4718,\n",
       "          0.3663, -0.3057,  0.1483,  0.3216,  0.4221, -0.7062, -0.4227,  0.1370]],\n",
       "       grad_fn=<AddmmBackward0>)"
      ]
     },
     "execution_count": 19,
     "metadata": {},
     "output_type": "execute_result"
    }
   ],
   "source": [
    "linear(my_embeddings)"
   ]
  },
  {
   "cell_type": "markdown",
   "metadata": {},
   "source": [
    "## Batch function\n",
    "\n",
    "Create a Batch function to interface with the data loader. Several adjustments are necessary to handle words that are part of a context in one batch and a predicted word in the following batch.\n"
   ]
  },
  {
   "cell_type": "code",
   "execution_count": 20,
   "metadata": {},
   "outputs": [],
   "source": [
    "from torch.utils.data import DataLoader  # Importing DataLoader for batch processing\n",
    "import torch  # Importing PyTorch\n",
    "\n",
    "# Set the device to GPU if available; otherwise, use CPU\n",
    "device = torch.device(\"cuda\" if torch.cuda.is_available() else \"cpu\")\n",
    "\n",
    "# Define hyperparameters\n",
    "CONTEXT_SIZE = 3   # Number of previous words used as context for prediction\n",
    "BATCH_SIZE = 10    # Number of samples per training batch\n",
    "EMBEDDING_DIM = 10 # Dimension of word embeddings\n",
    "\n",
    "def collate_batch(batch):\n",
    "    \"\"\"\n",
    "    Processes a batch of text data into input (context) and output (target) tensors\n",
    "    for training a language model.\n",
    "\n",
    "    The function extracts:\n",
    "    - `context`: A list of word indices representing the context words for each target word.\n",
    "    - `target`: A list of word indices representing the target word to predict.\n",
    "\n",
    "    Parameters:\n",
    "    batch (list): A list of tokenized words (strings).\n",
    "\n",
    "    Returns:\n",
    "    tuple: Two PyTorch tensors: (context_tensor, target_tensor)\n",
    "           - context_tensor: Tensor of shape (batch_size - CONTEXT_SIZE, CONTEXT_SIZE),\n",
    "             containing the word indices of context words.\n",
    "           - target_tensor: Tensor of shape (batch_size - CONTEXT_SIZE,),\n",
    "             containing the word indices of target words.\n",
    "    \"\"\"\n",
    "\n",
    "    batch_size = len(batch)  # Get the size of the batch\n",
    "    context, target = [], [] # Initialize lists for context and target words\n",
    "\n",
    "    # Loop through the batch, ensuring enough previous words exist for context\n",
    "    for i in range(CONTEXT_SIZE, batch_size):\n",
    "        # Convert the target word to its index using the vocabulary\n",
    "        target.append(vocab([batch[i]]))\n",
    "\n",
    "        # Convert the previous CONTEXT_SIZE words to indices using the vocabulary\n",
    "        context.append(vocab([batch[i - j - 1] for j in range(CONTEXT_SIZE)]))\n",
    "\n",
    "    # Convert lists to PyTorch tensors and move them to the appropriate device (CPU/GPU)\n",
    "    return torch.tensor(context).to(device), torch.tensor(target).to(device).reshape(-1)\n"
   ]
  },
  {
   "cell_type": "markdown",
   "metadata": {},
   "source": [
    "Similarly, it's important to highlight that the size of the last batch could deviate from that of the earlier batches. To tackle this, the approach involves adjusting the final batch to conform to the specified batch size, ensuring it becomes a multiple of the predetermined size. When necessary, you'll employ padding techniques to achieve this harmonization. One approach you'll use is appending the beginning of the song to the end of the batch.\n"
   ]
  },
  {
   "cell_type": "code",
   "execution_count": 21,
   "metadata": {},
   "outputs": [],
   "source": [
    "Padding=BATCH_SIZE-len(tokens)%BATCH_SIZE\n",
    "tokens_pad=tokens+tokens[0:Padding]\n"
   ]
  },
  {
   "cell_type": "markdown",
   "metadata": {},
   "source": [
    "Create the`DataLoader`.\n"
   ]
  },
  {
   "cell_type": "code",
   "execution_count": 22,
   "metadata": {},
   "outputs": [],
   "source": [
    "dataloader = DataLoader(\n",
    "     tokens_pad, batch_size=BATCH_SIZE, shuffle=False, collate_fn=collate_batch\n",
    ")"
   ]
  },
  {
   "cell_type": "markdown",
   "metadata": {},
   "source": [
    "## Multi-class neural network\n",
    "\n",
    "You have developed a PyTorch class for a multi-class neural network. The network's output is the probability of the next word within a given context. Therefore, the number of classes corresponds to the count of distinct words. The initial layer consists of embeddings, and in addition to the final layer, an extra hidden layer is incorporated.\n"
   ]
  },
  {
   "cell_type": "code",
   "execution_count": 23,
   "metadata": {},
   "outputs": [],
   "source": [
    "class NGramLanguageModeler(nn.Module):\n",
    "    \"\"\"\n",
    "    A neural network-based n-gram language model that predicts the next word \n",
    "    given a sequence of context words.\n",
    "\n",
    "    This model consists of:\n",
    "    - An embedding layer that converts word indices into dense vector representations.\n",
    "    - A fully connected hidden layer with ReLU activation.\n",
    "    - An output layer that predicts the probability distribution over the vocabulary.\n",
    "\n",
    "    Parameters:\n",
    "    vocab_size (int): The number of unique words in the vocabulary.\n",
    "    embedding_dim (int): The size of the word embeddings (vector representation of words).\n",
    "    context_size (int): The number of previous words used as context to predict the next word.\n",
    "    \"\"\"\n",
    "\n",
    "    def __init__(self, vocab_size, embedding_dim, context_size):\n",
    "        super(NGramLanguageModeler, self).__init__()\n",
    "\n",
    "        # Store context size and embedding dimension\n",
    "        self.context_size = context_size\n",
    "        self.embedding_dim = embedding_dim\n",
    "\n",
    "        # Embedding layer: Maps word indices to dense vectors\n",
    "        self.embeddings = nn.Embedding(vocab_size, embedding_dim)\n",
    "\n",
    "        # Fully connected hidden layer: Maps the concatenated embeddings to a 128-dimensional space\n",
    "        self.linear1 = nn.Linear(context_size * embedding_dim, 128)\n",
    "\n",
    "        # Output layer: Maps the hidden layer output to vocabulary size (probability distribution over words)\n",
    "        self.linear2 = nn.Linear(128, vocab_size)\n",
    "\n",
    "    def forward(self, inputs):\n",
    "        \"\"\"\n",
    "        Forward pass of the model.\n",
    "\n",
    "        Parameters:\n",
    "        inputs (Tensor): A tensor of shape (batch_size, context_size) containing word indices.\n",
    "\n",
    "        Returns:\n",
    "        Tensor: A tensor of shape (batch_size, vocab_size) representing predicted probabilities for the next word.\n",
    "        \"\"\"\n",
    "\n",
    "        # Convert input word indices into dense vectors using the embedding layer\n",
    "        embeds = self.embeddings(inputs)  # Shape: (batch_size, context_size, embedding_dim)\n",
    "\n",
    "        # Reshape the embeddings into a single vector per input sample\n",
    "        embeds = torch.reshape(embeds, (-1, self.context_size * self.embedding_dim))  \n",
    "        # New shape: (batch_size, context_size * embedding_dim)\n",
    "\n",
    "        # Apply first fully connected layer with ReLU activation\n",
    "        out = F.relu(self.linear1(embeds))  # Shape: (batch_size, 128)\n",
    "\n",
    "        # Apply second fully connected layer to generate vocabulary-size logits\n",
    "        out = self.linear2(out)  # Shape: (batch_size, vocab_size)\n",
    "\n",
    "        return out\n"
   ]
  },
  {
   "cell_type": "markdown",
   "metadata": {},
   "source": [
    "Create a model.\n"
   ]
  },
  {
   "cell_type": "code",
   "execution_count": 24,
   "metadata": {},
   "outputs": [],
   "source": [
    "model = NGramLanguageModeler(len(vocab), EMBEDDING_DIM, CONTEXT_SIZE).to(device)"
   ]
  },
  {
   "cell_type": "markdown",
   "metadata": {},
   "source": [
    "Retrieve samples from the data loader object and input them into the neural network.\n"
   ]
  },
  {
   "cell_type": "code",
   "execution_count": 25,
   "metadata": {},
   "outputs": [
    {
     "name": "stdout",
     "output_type": "stream",
     "text": [
      "tensor([[70, 58, 21],\n",
      "        [74, 70, 58],\n",
      "        [25, 74, 70],\n",
      "        [69, 25, 74],\n",
      "        [ 2, 69, 25],\n",
      "        [20,  2, 69],\n",
      "        [31, 20,  2]]) tensor([74, 25, 69,  2, 20, 31, 72])\n"
     ]
    }
   ],
   "source": [
    "context, target=next(iter(dataloader))\n",
    "print(context, target)\n",
    "out=model(context)"
   ]
  },
  {
   "cell_type": "markdown",
   "metadata": {},
   "source": [
    "While the model remains untrained, analyzing the output can provide us with a clearer understanding. In the output, the first dimension corresponds to the batch size, while the second dimension represents the probability associated with each class.\n"
   ]
  },
  {
   "cell_type": "code",
   "execution_count": 26,
   "metadata": {},
   "outputs": [
    {
     "data": {
      "text/plain": [
       "torch.Size([7, 79])"
      ]
     },
     "execution_count": 26,
     "metadata": {},
     "output_type": "execute_result"
    }
   ],
   "source": [
    "out.shape"
   ]
  },
  {
   "cell_type": "markdown",
   "metadata": {},
   "source": [
    "Find the index with the highest probability.\n"
   ]
  },
  {
   "cell_type": "code",
   "execution_count": 27,
   "metadata": {},
   "outputs": [
    {
     "data": {
      "text/plain": [
       "tensor([15, 14, 31, 22, 23, 35, 16])"
      ]
     },
     "execution_count": 27,
     "metadata": {},
     "output_type": "execute_result"
    }
   ],
   "source": [
    "predicted_index =torch.argmax(out,1)\n",
    "predicted_index"
   ]
  },
  {
   "cell_type": "markdown",
   "metadata": {},
   "source": [
    "Find the corresponding token.\n"
   ]
  },
  {
   "cell_type": "code",
   "execution_count": 28,
   "metadata": {},
   "outputs": [
    {
     "data": {
      "text/plain": [
       "['hurt', 'goodbye', 'the', 'been', 'im', 'both', 'let']"
      ]
     },
     "execution_count": 28,
     "metadata": {},
     "output_type": "execute_result"
    }
   ],
   "source": [
    "[index_to_token[i.item()] for i in  predicted_index]"
   ]
  },
  {
   "cell_type": "markdown",
   "metadata": {},
   "source": [
    "Create a function that accomplishes the same task for the tokens.\n"
   ]
  },
  {
   "cell_type": "code",
   "execution_count": 29,
   "metadata": {},
   "outputs": [],
   "source": [
    "def write_song(model, my_song, number_of_words=100):\n",
    "    \"\"\"\n",
    "    Generates text using a trained n-gram language model.\n",
    "\n",
    "    Given an initial text (`my_song`), the function generates additional words by \n",
    "    predicting the next word iteratively based on the trained model.\n",
    "\n",
    "    Parameters:\n",
    "    model (nn.Module): The trained n-gram language model.\n",
    "    my_song (str): The initial seed text to start generating words.\n",
    "    number_of_words (int): The number of words to generate (default: 100).\n",
    "\n",
    "    Returns:\n",
    "    str: The generated song lyrics as a string.\n",
    "    \"\"\"\n",
    "\n",
    "    # Get the mapping from index to word for decoding predictions\n",
    "    index_to_token = vocab.get_itos()\n",
    "\n",
    "    # Loop to generate the desired number of words\n",
    "    for i in range(number_of_words):\n",
    "\n",
    "        with torch.no_grad():  # Disable gradient computation for inference\n",
    "            \n",
    "            # Prepare the input context by extracting the last CONTEXT_SIZE words from tokens\n",
    "            context = torch.tensor(\n",
    "                vocab([tokens[i - j - 1] for j in range(CONTEXT_SIZE)])\n",
    "            ).to(device)  # Move to CPU/GPU as required\n",
    "            \n",
    "            # Predict the next word by selecting the word with the highest probability\n",
    "            word_idx = torch.argmax(model(context))  # Get index of the most likely next word\n",
    "            \n",
    "            # Append the predicted word to the generated text\n",
    "            my_song += \" \" + index_to_token[word_idx.detach().item()]\n",
    "\n",
    "    return my_song  # Return the generated lyrics\n"
   ]
  },
  {
   "cell_type": "code",
   "execution_count": 30,
   "metadata": {},
   "outputs": [
    {
     "name": "stdout",
     "output_type": "stream",
     "text": [
      "I just wanna tell you how Im feeling strangers both hurt hurt goodbye the been im both let goodbye goodbye goodbye this hurt and this this goodbye strangers hurt goodbye goodbye goodbye let goodbye both hurt goodbye hearts say strangers strangers both strangers strangers this shy give goodbye both hurt strangers been shy both both hurt strangers been run hearts both thinking strangers both shy strangers both hearts strangers goodbye say strangers shy strangers both hurt strangers strangers shy both both shy hurt run strangers both strangers hurt strangers ask both strangers both thinking both this hearts and how goodbye full strangers and been im both let strangers\n"
     ]
    }
   ],
   "source": [
    "def pickrandomline(song):\n",
    "    \"\"\"\n",
    "    Selects a random line from the given song text.\n",
    "\n",
    "    This function splits the song into separate lines and randomly picks one of them.\n",
    "\n",
    "    Parameters:\n",
    "    song (str): The song lyrics as a multi-line string.\n",
    "\n",
    "    Returns:\n",
    "    str: A randomly selected line from the song.\n",
    "    \"\"\"\n",
    "    \n",
    "    # Split the song into individual lines\n",
    "    lines = song.split(\"\\n\")  \n",
    "    \n",
    "    # Randomly select a line and remove leading/trailing whitespace\n",
    "    selected_line = random.choice(lines).strip()\n",
    "    \n",
    "    return selected_line  # Return the randomly selected line\n",
    "\n",
    "# Example usage:\n",
    "selected_line = pickrandomline(song)  # Pick a random line from the song\n",
    "\n",
    "# Generate a new song starting with the selected line\n",
    "generated_song = write_song(model, selected_line)\n",
    "\n",
    "# Print the generated lyrics\n",
    "print(generated_song)\n"
   ]
  },
  {
   "cell_type": "markdown",
   "metadata": {},
   "source": [
    "## Training\n",
    "\n",
    "Training a language model involves a multi-step process that leverages training and testing data to optimize model performance. In the realm of Natural Language Processing (NLP), this process often employs various metrics to gauge a model's accuracy, such as perplexity or accuracy on unseen data. However, in the context of your current exploration, you will embark on a slightly different journey. Instead of relying solely on conventional NLP metrics, the focus shifts to manual inspection of the results. \n",
    "\n",
    "You have the cross entropy loss between input logits and target:\n"
   ]
  },
  {
   "cell_type": "code",
   "execution_count": 31,
   "metadata": {},
   "outputs": [],
   "source": [
    "criterion = torch.nn.CrossEntropyLoss()"
   ]
  },
  {
   "cell_type": "markdown",
   "metadata": {},
   "source": [
    "You have developed a function dedicated to training the model using the supplied data loader. In addition to training the model, the function's output includes predictions for each epoch, spanning context for the next 100 words.\n",
    "\n",
    "\n",
    ">**Note: Since the dataset used is relatively small and the model is trained for a limited number of epochs, the generated song may not always be fully coherent due to a restricted vocabulary. This example primarily serves to demonstrate the functionality of a feedforward neural network for language modeling.**\n"
   ]
  },
  {
   "cell_type": "code",
   "execution_count": 32,
   "metadata": {},
   "outputs": [],
   "source": [
    "def train(dataloader, model,song,number_of_epochs=100, show=10):\n",
    "    \"\"\"\n",
    "    Args:\n",
    "        dataloader (DataLoader): DataLoader containing training data.\n",
    "        model (nn.Module): Neural network model to be trained.\n",
    "        number_of_epochs (int, optional): Number of epochs for training. Default is 100.\n",
    "        show (int, optional): Interval for displaying progress. Default is 10.\n",
    "\n",
    "    Returns:\n",
    "        list: List containing loss values for each epoch.\n",
    "    \"\"\"\n",
    "\n",
    "    MY_LOSS = []  # List to store loss values for each epoch\n",
    "\n",
    "    # Iterate over the specified number of epochs\n",
    "    for epoch in tqdm(range(number_of_epochs)):\n",
    "        total_loss = 0  # Initialize total loss for the current epoch\n",
    "        my_song = \"\"    # Initialize a string to store the generated song\n",
    "\n",
    "        # Iterate over batches in the dataloader\n",
    "        for context, target in dataloader:\n",
    "            model.zero_grad()          # Zero the gradients to avoid accumulation\n",
    "            predicted = model(context)  # Forward pass through the model to get predictions\n",
    "            loss = criterion(predicted, target.reshape(-1))  # Calculate the loss\n",
    "            total_loss += loss.item()   # Accumulate the loss\n",
    "\n",
    "            loss.backward()    # Backpropagation to compute gradients\n",
    "            optimizer.step()   # Update model parameters using the optimizer\n",
    "\n",
    "        # Display progress and generate song at specified intervals\n",
    "        if epoch % show == 0:\n",
    "            selected_line=pickrandomline(song)\n",
    "            my_song += write_song(model, selected_line)    # Generate song using the model\n",
    "\n",
    "            print(\"Generated Song:\")\n",
    "            print(\"\\n\")\n",
    "            print(my_song)\n",
    "\n",
    "        MY_LOSS.append(total_loss/len(dataloader))  # Append the total loss for the epoch to MY_LOSS list\n",
    "\n",
    "    return MY_LOSS  # Return the list of  mean loss values for each epoch"
   ]
  },
  {
   "cell_type": "markdown",
   "metadata": {},
   "source": [
    "The following list will be used to store the loss for each model.\n"
   ]
  },
  {
   "cell_type": "code",
   "execution_count": 33,
   "metadata": {},
   "outputs": [],
   "source": [
    "my_loss_list=[]"
   ]
  },
  {
   "cell_type": "markdown",
   "metadata": {},
   "source": [
    "This code segment initializes an n-gram language model with a context size of 2. The model, named `model_2`, is configured based on the provided vocabulary size, embedding dimension, and context size. The Stochastic Gradient Descent (SGD) optimizer is employed with a learning rate of 0.01 to manage model parameter updates. A learning rate scheduler, using a step-wise approach with a reduction factor of 0.1 per epoch, is set up to adapt the learning rate during the training process. These settings collectively establish the framework for training the n-gram language model with tailored optimization and learning rate adjustment.\n"
   ]
  },
  {
   "cell_type": "code",
   "execution_count": 34,
   "metadata": {},
   "outputs": [],
   "source": [
    "# Define the context size for the n-gram model\n",
    "CONTEXT_SIZE = 2\n",
    "\n",
    "# Create an instance of the NGramLanguageModeler class with specified parameters\n",
    "model_2 = NGramLanguageModeler(len(vocab), EMBEDDING_DIM, CONTEXT_SIZE).to(device)\n",
    "\n",
    "# Define the optimizer for training the model, using stochastic gradient descent (SGD)\n",
    "optimizer = optim.SGD(model_2.parameters(), lr=0.01)\n",
    "\n",
    "# Set up a learning rate scheduler using StepLR to adjust the learning rate during training\n",
    "scheduler = torch.optim.lr_scheduler.StepLR(optimizer, step_size=1.0, gamma=0.1)"
   ]
  },
  {
   "cell_type": "markdown",
   "metadata": {},
   "source": [
    "Now, you will train the model.\n"
   ]
  },
  {
   "cell_type": "code",
   "execution_count": 35,
   "metadata": {},
   "outputs": [
    {
     "name": "stderr",
     "output_type": "stream",
     "text": [
      "  1%|          | 1/100 [00:00<00:23,  4.14it/s]"
     ]
    },
    {
     "name": "stdout",
     "output_type": "stream",
     "text": [
      "Generated Song:\n",
      "\n",
      "\n",
      "Never gonna run around and desert you <unk> <unk> <unk> <unk> <unk> <unk> <unk> <unk> <unk> <unk> <unk> <unk> <unk> <unk> <unk> <unk> <unk> <unk> <unk> <unk> other <unk> <unk> <unk> and the <unk> <unk> <unk> the <unk> <unk> <unk> <unk> you <unk> <unk> <unk> <unk> <unk> <unk> make <unk> <unk> <unk> <unk> <unk> <unk> <unk> <unk> <unk> <unk> <unk> <unk> you <unk> <unk> <unk> <unk> <unk> <unk> <unk> <unk> <unk> <unk> <unk> <unk> make <unk> <unk> <unk> <unk> <unk> gonna <unk> <unk> <unk> <unk> you full <unk> <unk> <unk> <unk> <unk> <unk> <unk> <unk> <unk> other <unk> <unk> <unk> give <unk> <unk> <unk> <unk> <unk> <unk>\n"
     ]
    },
    {
     "name": "stderr",
     "output_type": "stream",
     "text": [
      " 12%|█▏        | 12/100 [00:02<00:17,  5.07it/s]"
     ]
    },
    {
     "name": "stdout",
     "output_type": "stream",
     "text": [
      "Generated Song:\n",
      "\n",
      "\n",
      "Never gonna let you down never never never <unk> you <unk> <unk> you never never and never you <unk> you you never you never <unk> you and you <unk> <unk> you <unk> you and you never <unk> <unk> <unk> you never never never <unk> <unk> <unk> you never <unk> <unk> <unk> <unk> you <unk> never <unk> <unk> <unk> you never <unk> <unk> <unk> <unk> you and <unk> <unk> you <unk> <unk> <unk> you never never <unk> <unk> <unk> you never <unk> <unk> <unk> you you and <unk> you never never never you you <unk> <unk> you never you you <unk> <unk> never <unk> <unk> never\n"
     ]
    },
    {
     "name": "stderr",
     "output_type": "stream",
     "text": [
      " 22%|██▏       | 22/100 [00:04<00:15,  5.11it/s]"
     ]
    },
    {
     "name": "stdout",
     "output_type": "stream",
     "text": [
      "Generated Song:\n",
      "\n",
      "\n",
      "We know the game and were gonna play it never never you you you and <unk> and never never and never you <unk> you you and you never <unk> you and never never <unk> and never you and and never never <unk> tell you never never never <unk> <unk> tell you never <unk> <unk> <unk> tell you and never <unk> <unk> tell you down never <unk> <unk> tell you and desert you never <unk> <unk> tell you never never <unk> <unk> tell goodbye never <unk> <unk> tell you you and hurt you never never and you you <unk> <unk> you and you you <unk> never never <unk> <unk> never\n"
     ]
    },
    {
     "name": "stderr",
     "output_type": "stream",
     "text": [
      " 32%|███▏      | 32/100 [00:06<00:12,  5.55it/s]"
     ]
    },
    {
     "name": "stdout",
     "output_type": "stream",
     "text": [
      "Generated Song:\n",
      "\n",
      "\n",
      "Inside we both know whats been going on never never you you you and you down never never and desert you you you you and you never <unk> you and never never <unk> and <unk> you and down never <unk> <unk> tell you down im feeling <unk> <unk> tell you and never <unk> <unk> tell you and never <unk> <unk> tell you down never <unk> <unk> tell you and desert you never <unk> <unk> tell you and never <unk> <unk> tell goodbye never <unk> <unk> tell you down and hurt you never never and you you <unk> <unk> you and you you <unk> never down <unk> <unk> desert\n"
     ]
    },
    {
     "name": "stderr",
     "output_type": "stream",
     "text": [
      " 42%|████▏     | 42/100 [00:08<00:11,  5.27it/s]"
     ]
    },
    {
     "name": "stdout",
     "output_type": "stream",
     "text": [
      "Generated Song:\n",
      "\n",
      "\n",
      "Never gonna tell a lie and hurt you never never no strangers you and you down we game and desert you you other you and you never <unk> you and down never <unk> and desert you and down never <unk> <unk> tell you down im feeling <unk> <unk> tell you understand never <unk> <unk> tell you and never <unk> <unk> tell you down never <unk> <unk> tell you and desert you never <unk> <unk> tell you understand never <unk> <unk> tell goodbye never <unk> <unk> tell you down and hurt you never never each other you <unk> <unk> you and been aching <unk> never down never <unk> desert\n"
     ]
    },
    {
     "name": "stderr",
     "output_type": "stream",
     "text": [
      " 52%|█████▏    | 52/100 [00:09<00:09,  5.00it/s]"
     ]
    },
    {
     "name": "stdout",
     "output_type": "stream",
     "text": [
      "Generated Song:\n",
      "\n",
      "\n",
      "I just wanna tell you how Im feeling never never no strangers to and you and we game and desert you you other full and and never you you and down never <unk> youre desert you and down never <unk> <unk> tell you down im feeling <unk> <unk> tell you understand never <unk> <unk> tell you and never <unk> <unk> tell you down never <unk> <unk> tell you and desert you never <unk> <unk> tell you understand never <unk> <unk> tell goodbye never <unk> <unk> tell you how and hurt you never never each other you <unk> <unk> you been been aching but youre too shy to desert\n"
     ]
    },
    {
     "name": "stderr",
     "output_type": "stream",
     "text": [
      " 62%|██████▏   | 62/100 [00:11<00:07,  5.07it/s]"
     ]
    },
    {
     "name": "stdout",
     "output_type": "stream",
     "text": [
      "Generated Song:\n",
      "\n",
      "\n",
      "You wouldnt get this from any other guy never desert no strangers to love you know we game and desert you you other full and and im you been and never never <unk> youre desert you and down never <unk> <unk> tell you how im feeling <unk> <unk> tell you understand never <unk> <unk> tell you and never <unk> <unk> tell you down never <unk> <unk> tell you and desert you never <unk> <unk> tell you understand never <unk> <unk> tell goodbye never <unk> <unk> tell you how and hurt you never known each other for <unk> <unk> you been been aching but youre too shy to desert\n"
     ]
    },
    {
     "name": "stderr",
     "output_type": "stream",
     "text": [
      " 71%|███████   | 71/100 [00:13<00:06,  4.75it/s]"
     ]
    },
    {
     "name": "stdout",
     "output_type": "stream",
     "text": [
      "Generated Song:\n",
      "\n",
      "\n",
      "We know the game and were gonna play it never desert no strangers to love you know we game and desert you you a full and and im thinking been and never never <unk> from any you and know never <unk> <unk> tell you how im feeling <unk> <unk> tell you understand never <unk> <unk> tell you and never <unk> <unk> tell you down never <unk> <unk> tell you and desert you never <unk> <unk> tell you understand never <unk> <unk> tell goodbye never <unk> <unk> tell you how and hurt you never known each other for <unk> <unk> you been been aching but youre too shy to say\n"
     ]
    },
    {
     "name": "stderr",
     "output_type": "stream",
     "text": [
      " 82%|████████▏ | 82/100 [00:15<00:03,  4.89it/s]"
     ]
    },
    {
     "name": "stdout",
     "output_type": "stream",
     "text": [
      "Generated Song:\n",
      "\n",
      "\n",
      "Never gonna say goodbye never im no strangers to love you know the game and desert you you a full and what im thinking been and know never <unk> from any other guy i never <unk> <unk> tell you how im feeling <unk> <unk> tell you understand never <unk> <unk> tell you up never <unk> <unk> tell you down never <unk> <unk> tell around and desert you never <unk> <unk> tell you understand never <unk> <unk> tell goodbye never <unk> <unk> tell you how and hurt you never known each other for so <unk> you know been aching but youre too shy to say\n"
     ]
    },
    {
     "name": "stderr",
     "output_type": "stream",
     "text": [
      " 92%|█████████▏| 92/100 [00:17<00:01,  5.65it/s]"
     ]
    },
    {
     "name": "stdout",
     "output_type": "stream",
     "text": [
      "Generated Song:\n",
      "\n",
      "\n",
      "Your hearts been aching but youre too shy to say it never are no strangers to love you know the game and desert you you a full and what im thinking been and wouldnt get this from any other guy i never <unk> <unk> tell you how im feeling <unk> <unk> tell you understand never <unk> <unk> tell you up never <unk> <unk> tell you down never <unk> <unk> tell around and desert you never <unk> <unk> tell you understand never <unk> <unk> tell goodbye never <unk> <unk> tell you lie and hurt you never known each other for so long you know been aching but youre too shy to say\n"
     ]
    },
    {
     "name": "stderr",
     "output_type": "stream",
     "text": [
      "100%|██████████| 100/100 [00:19<00:00,  5.20it/s]\n"
     ]
    }
   ],
   "source": [
    "my_loss=train(dataloader,model_2,song)"
   ]
  },
  {
   "cell_type": "markdown",
   "metadata": {},
   "source": [
    "Save the model.\n"
   ]
  },
  {
   "cell_type": "code",
   "execution_count": 36,
   "metadata": {},
   "outputs": [],
   "source": [
    "save_path = '2gram.pth'\n",
    "torch.save(model_2.state_dict(), save_path)\n",
    "my_loss_list.append(my_loss)"
   ]
  },
  {
   "cell_type": "markdown",
   "metadata": {},
   "source": [
    "The code provided below shows word embeddings from the created model, reduces their dimensionality to 2D using t-SNE, and then plots them as a scatter plot. Additionally, it annotates the first 20 points in the visualization with their corresponding words. This is used to visualize how similar words cluster together in a lower-dimensional space, revealing the structure of the word embeddings. Embeddings allow the model to represent words in a continuous vector space, capturing semantic relationships and similarities between words.\n"
   ]
  },
  {
   "cell_type": "code",
   "execution_count": 37,
   "metadata": {},
   "outputs": [
    {
     "data": {
      "image/png": "[encoded data removed]",
      "text/plain": [
       "<Figure size 640x480 with 1 Axes>"
      ]
     },
     "metadata": {},
     "output_type": "display_data"
    }
   ],
   "source": [
    "X = model_2.embeddings.weight.cpu().detach().numpy()\n",
    "tsne = TSNE(n_components=2, random_state=42)\n",
    "X_2d = tsne.fit_transform(X)\n",
    "\n",
    "labels = []\n",
    "\n",
    "for j in range(len(X_2d)):\n",
    "    if j < 20:\n",
    "        plt.scatter(X_2d[j, 0], X_2d[j, 1], label=index_to_token[j])\n",
    "        labels.append(index_to_token[j])\n",
    "        # Add words as annotations\n",
    "        plt.annotate(index_to_token[j],\n",
    "                     (X_2d[j, 0], X_2d[j, 1]),\n",
    "                     textcoords=\"offset points\",\n",
    "                     xytext=(0, 10),\n",
    "                     ha='center')\n",
    "    else:\n",
    "        plt.scatter(X_2d[j, 0], X_2d[j, 1])\n",
    "\n",
    "plt.legend(labels, loc='upper left', bbox_to_anchor=(1, 1))\n",
    "plt.show()"
   ]
  },
  {
   "cell_type": "code",
   "execution_count": 38,
   "metadata": {},
   "outputs": [
    {
     "name": "stdout",
     "output_type": "stream",
     "text": [
      "1.26.4\n"
     ]
    }
   ],
   "source": [
    "import numpy as np\n",
    "print(np.__version__)"
   ]
  },
  {
   "cell_type": "markdown",
   "metadata": {},
   "source": [
    "Repeat the process for a context of four.\n"
   ]
  },
  {
   "cell_type": "code",
   "execution_count": 39,
   "metadata": {},
   "outputs": [
    {
     "name": "stderr",
     "output_type": "stream",
     "text": [
      "  1%|          | 1/100 [00:00<00:18,  5.41it/s]"
     ]
    },
    {
     "name": "stdout",
     "output_type": "stream",
     "text": [
      "Generated Song:\n",
      "\n",
      "\n",
      "Never gonna say goodbye <unk> you <unk> rules <unk> you never you down <unk> <unk> down <unk> <unk> <unk> for <unk> you make inside never you <unk> <unk> <unk> you <unk> <unk> rules <unk> rules down rules never never <unk> <unk> <unk> <unk> <unk> never you <unk> <unk> <unk> <unk> never you <unk> inside <unk> <unk> never you <unk> <unk> <unk> <unk> never you <unk> <unk> <unk> <unk> <unk> <unk> never you <unk> <unk> <unk> <unk> make you <unk> <unk> <unk> never you <unk> <unk> <unk> <unk> <unk> your <unk> <unk> <unk> you <unk> <unk> never wouldnt <unk> for <unk> too you inside you\n"
     ]
    },
    {
     "name": "stderr",
     "output_type": "stream",
     "text": [
      " 12%|█▏        | 12/100 [00:02<00:16,  5.29it/s]"
     ]
    },
    {
     "name": "stdout",
     "output_type": "stream",
     "text": [
      "Generated Song:\n",
      "\n",
      "\n",
      "You know the rules and so do I never you <unk> you you you never you <unk> <unk> <unk> you you <unk> <unk> <unk> <unk> <unk> never you never you <unk> you you you you never <unk> <unk> you you <unk> you you never never <unk> <unk> <unk> tell you never never <unk> <unk> give you never never <unk> <unk> let you down never <unk> <unk> tell you never never you <unk> <unk> <unk> make you never never <unk> <unk> say you never <unk> <unk> tell you never never you you never you never <unk> never you <unk> <unk> never you <unk> never you never you you you\n"
     ]
    },
    {
     "name": "stderr",
     "output_type": "stream",
     "text": [
      " 22%|██▏       | 22/100 [00:04<00:15,  5.02it/s]"
     ]
    },
    {
     "name": "stdout",
     "output_type": "stream",
     "text": [
      "Generated Song:\n",
      "\n",
      "\n",
      "Never gonna tell a lie and hurt you never you <unk> <unk> you you you you <unk> <unk> never you you <unk> never you never <unk> never you never you <unk> tell you you you never <unk> <unk> you you <unk> tell you down never feeling <unk> <unk> tell you down never <unk> <unk> give you never never <unk> <unk> let you down never <unk> <unk> tell you down never you never <unk> <unk> make you down never <unk> <unk> say goodbye never <unk> <unk> tell you never never you you never you you <unk> never you <unk> <unk> let you <unk> never you never say you you\n"
     ]
    },
    {
     "name": "stderr",
     "output_type": "stream",
     "text": [
      " 32%|███▏      | 32/100 [00:06<00:11,  5.72it/s]"
     ]
    },
    {
     "name": "stdout",
     "output_type": "stream",
     "text": [
      "Generated Song:\n",
      "\n",
      "\n",
      "Never gonna give you up never you <unk> im to you you you <unk> <unk> never were <unk> <unk> a <unk> never <unk> im tell never you <unk> tell you never you never you <unk> you im <unk> tell you how im feeling <unk> <unk> tell you down never <unk> <unk> give you how never <unk> <unk> let you down never <unk> <unk> tell you down never you never <unk> <unk> make you down never <unk> <unk> say goodbye never <unk> <unk> tell you how never you you never you you other for you <unk> <unk> let you <unk> but you too say you you\n"
     ]
    },
    {
     "name": "stderr",
     "output_type": "stream",
     "text": [
      " 41%|████      | 41/100 [00:08<00:11,  4.96it/s]"
     ]
    },
    {
     "name": "stdout",
     "output_type": "stream",
     "text": [
      "Generated Song:\n",
      "\n",
      "\n",
      "Dont tell me youre too blind to see never you <unk> im to you you you let <unk> never were <unk> <unk> a <unk> never <unk> im feeling never you down tell you never you other you im you im <unk> tell you how im feeling <unk> <unk> give you down never <unk> <unk> give you up never <unk> <unk> let you down never <unk> <unk> tell you down never you never <unk> <unk> make you down never <unk> <unk> say goodbye never <unk> <unk> tell you how never you you never known each other for you <unk> <unk> let you <unk> but youre too shy to say\n"
     ]
    },
    {
     "name": "stderr",
     "output_type": "stream",
     "text": [
      " 52%|█████▏    | 52/100 [00:10<00:09,  4.99it/s]"
     ]
    },
    {
     "name": "stdout",
     "output_type": "stream",
     "text": [
      "Generated Song:\n",
      "\n",
      "\n",
      "Inside we both know whats been going on never known <unk> im to you you know known <unk> never were <unk> never a full <unk> <unk> im thinking <unk> you down tell you never any other feeling i you im <unk> tell you how im feeling <unk> <unk> give you down never <unk> <unk> give you up never <unk> <unk> let you down never <unk> <unk> tell you down never you never <unk> <unk> make you down never <unk> <unk> say goodbye never <unk> <unk> tell you how never you you never known each other for you <unk> <unk> let been <unk> but youre too shy to say\n"
     ]
    },
    {
     "name": "stderr",
     "output_type": "stream",
     "text": [
      " 62%|██████▏   | 62/100 [00:12<00:07,  5.11it/s]"
     ]
    },
    {
     "name": "stdout",
     "output_type": "stream",
     "text": [
      "Generated Song:\n",
      "\n",
      "\n",
      "Never gonna give you up never known <unk> im to you you know the rules never were <unk> never a full commitments <unk> im thinking <unk> you down tell you never any other guy i you im <unk> tell you how im feeling <unk> <unk> give you understand never <unk> <unk> give you up never <unk> <unk> let you down never <unk> <unk> tell you how never you never <unk> <unk> make you understand never <unk> <unk> say goodbye never <unk> <unk> tell you how never you you never known each other for so <unk> <unk> let been aching but youre too shy to say\n"
     ]
    },
    {
     "name": "stderr",
     "output_type": "stream",
     "text": [
      " 72%|███████▏  | 72/100 [00:14<00:05,  5.49it/s]"
     ]
    },
    {
     "name": "stdout",
     "output_type": "stream",
     "text": [
      "Generated Song:\n",
      "\n",
      "\n",
      "Never gonna say goodbye never known no strangers to love you know the rules never were <unk> never a full commitments <unk> im thinking <unk> you down tell this from any other guy i you im <unk> tell you how im feeling <unk> <unk> give you understand never <unk> <unk> give you up never <unk> <unk> let you down never <unk> <unk> tell around how never you never <unk> <unk> make you understand never <unk> <unk> say goodbye never <unk> <unk> tell you how never we you never known each other for so long <unk> let been aching but youre too shy to say\n"
     ]
    },
    {
     "name": "stderr",
     "output_type": "stream",
     "text": [
      " 81%|████████  | 81/100 [00:15<00:03,  4.85it/s]"
     ]
    },
    {
     "name": "stdout",
     "output_type": "stream",
     "text": [
      "Generated Song:\n",
      "\n",
      "\n",
      "Your hearts been aching but youre too shy to say it never known no strangers to love you know the rules never were <unk> never a full commitments <unk> im thinking <unk> you down tell this from any other guy i you im <unk> tell you how im feeling <unk> <unk> give you understand never <unk> <unk> give you up never <unk> <unk> let you down never <unk> <unk> run around understand never you never <unk> <unk> make you understand never <unk> <unk> say goodbye never <unk> <unk> tell a how never we you never known each other for so long <unk> let been aching but youre too shy to say\n"
     ]
    },
    {
     "name": "stderr",
     "output_type": "stream",
     "text": [
      " 92%|█████████▏| 92/100 [00:18<00:01,  5.28it/s]"
     ]
    },
    {
     "name": "stdout",
     "output_type": "stream",
     "text": [
      "Generated Song:\n",
      "\n",
      "\n",
      "Never gonna tell a lie and hurt you never are no strangers to love you know the rules never were <unk> never a full commitments what im thinking <unk> love down tell this from any other guy i you im <unk> tell you how im feeling <unk> <unk> give you understand never <unk> <unk> give you up never <unk> <unk> let you down never <unk> <unk> run around understand never you never <unk> <unk> make you understand never <unk> <unk> say goodbye never <unk> <unk> tell a lie never we you never known each other for so long aching let been aching but youre too shy to say\n"
     ]
    },
    {
     "name": "stderr",
     "output_type": "stream",
     "text": [
      "100%|██████████| 100/100 [00:19<00:00,  5.12it/s]\n"
     ]
    }
   ],
   "source": [
    "CONTEXT_SIZE=4\n",
    "model_4 = NGramLanguageModeler(len(vocab), EMBEDDING_DIM, CONTEXT_SIZE).to(device)\n",
    "optimizer = optim.SGD(model_4.parameters(), lr=0.01)\n",
    "scheduler = torch.optim.lr_scheduler.StepLR(optimizer, 1.0, gamma=0.1)\n",
    "my_loss=train(dataloader,model_4,song)\n",
    "\n",
    "save_path = '4gram.pth'\n",
    "torch.save(model_4.state_dict(), save_path)\n",
    "\n",
    "my_loss_list.append(my_loss)"
   ]
  },
  {
   "cell_type": "markdown",
   "metadata": {},
   "source": [
    "The code provided below shows word embeddings from the created model, reduces their dimensionality to 2d using t-SNE, and then plots them as a scatter plot. Additionally, it annotates the first 20 points in the visualization with their corresponding words. This is used to visualize how similar words cluster together in a lower-dimensional space, revealing the structure of the word embeddings. Embeddings allow the model to represent words in a continuous vector space, capturing semantic relationships and similarities between words.\n"
   ]
  },
  {
   "cell_type": "code",
   "execution_count": 40,
   "metadata": {},
   "outputs": [
    {
     "data": {
      "image/png": "[encoded data removed]",
      "text/plain": [
       "<Figure size 640x480 with 1 Axes>"
      ]
     },
     "metadata": {},
     "output_type": "display_data"
    }
   ],
   "source": [
    "X = model_4.embeddings.weight.cpu().detach().numpy()\n",
    "tsne = TSNE(n_components=2, random_state=42)\n",
    "X_2d = tsne.fit_transform(X)\n",
    "\n",
    "labels = []\n",
    "\n",
    "for j in range(len(X_2d)):\n",
    "    if j < 20:\n",
    "        plt.scatter(X_2d[j, 0], X_2d[j, 1], label=index_to_token[j])\n",
    "        labels.append(index_to_token[j])\n",
    "        # Add words as annotations\n",
    "        plt.annotate(index_to_token[j],\n",
    "                     (X_2d[j, 0], X_2d[j, 1]),\n",
    "                     textcoords=\"offset points\",\n",
    "                     xytext=(0, 10),\n",
    "                     ha='center')\n",
    "    else:\n",
    "        plt.scatter(X_2d[j, 0], X_2d[j, 1])\n",
    "\n",
    "plt.legend(labels, loc='upper left', bbox_to_anchor=(1, 1))\n",
    "plt.show()"
   ]
  },
  {
   "cell_type": "markdown",
   "metadata": {},
   "source": [
    "Finally, for a context of eight.\n"
   ]
  },
  {
   "cell_type": "code",
   "execution_count": 41,
   "metadata": {},
   "outputs": [
    {
     "name": "stderr",
     "output_type": "stream",
     "text": [
      "  1%|          | 1/100 [00:00<00:22,  4.31it/s]"
     ]
    },
    {
     "name": "stdout",
     "output_type": "stream",
     "text": [
      "Generated Song:\n",
      "\n",
      "\n",
      "Never gonna say goodbye say you you gonna say <unk> say <unk> get <unk> say get <unk> <unk> say say run im see you guy were say your this say give <unk> say thinking say make i <unk> you you <unk> <unk> <unk> <unk> <unk> you you but <unk> <unk> <unk> you you <unk> <unk> <unk> <unk> you you <unk> <unk> <unk> <unk> you <unk> <unk> <unk> <unk> <unk> <unk> <unk> you you <unk> <unk> <unk> <unk> you you <unk> <unk> <unk> you you <unk> <unk> <unk> say <unk> you cry say <unk> <unk> down say you i were to give never <unk> say\n"
     ]
    },
    {
     "name": "stderr",
     "output_type": "stream",
     "text": [
      " 12%|█▏        | 12/100 [00:02<00:15,  5.75it/s]"
     ]
    },
    {
     "name": "stdout",
     "output_type": "stream",
     "text": [
      "Generated Song:\n",
      "\n",
      "\n",
      "I just wanna tell you how Im feeling tell you to give to you im <unk> the tell give give you <unk> play make and im im thinking im make give make you <unk> give <unk> guy i <unk> make give give you never never <unk> <unk> <unk> give you you never <unk> <unk> give you up never <unk> <unk> give you <unk> never <unk> <unk> give you <unk> never <unk> <unk> tell <unk> make you cry never <unk> <unk> give you you <unk> <unk> tell you you <unk> <unk> <unk> tell play you give for <unk> long <unk> make you i im to give shy to say\n"
     ]
    },
    {
     "name": "stderr",
     "output_type": "stream",
     "text": [
      " 22%|██▏       | 22/100 [00:04<00:12,  6.02it/s]"
     ]
    },
    {
     "name": "stdout",
     "output_type": "stream",
     "text": [
      "Generated Song:\n",
      "\n",
      "\n",
      "Your hearts been aching but youre too shy to say it tell a to strangers to you to <unk> the rules to im feeling <unk> play it and im im thinking im feeling to make it to im <unk> guy i im tell give give you cry im feeling <unk> <unk> give you cry never <unk> <unk> give you up never <unk> <unk> give you up never <unk> <unk> run around up never <unk> <unk> tell <unk> make you cry never <unk> <unk> give you up never <unk> tell a lie never <unk> <unk> tell im lie other for so long i to you to im to too shy to say\n"
     ]
    },
    {
     "name": "stderr",
     "output_type": "stream",
     "text": [
      " 32%|███▏      | 32/100 [00:05<00:12,  5.56it/s]"
     ]
    },
    {
     "name": "stdout",
     "output_type": "stream",
     "text": [
      "Generated Song:\n",
      "\n",
      "\n",
      "Never gonna give you up <unk> a to strangers to you guy i the rules other im feeling <unk> play it and i im thinking im thinking me make it to im <unk> guy i so to give give you cry im feeling <unk> <unk> give you cry never <unk> <unk> give you up never <unk> <unk> give around up never <unk> <unk> run around up never feeling <unk> tell <unk> make you cry never <unk> <unk> give you up never <unk> tell a lie im <unk> <unk> <unk> guy i other for so long me to other to im to too shy to say\n"
     ]
    },
    {
     "name": "stderr",
     "output_type": "stream",
     "text": [
      " 42%|████▏     | 42/100 [00:07<00:10,  5.36it/s]"
     ]
    },
    {
     "name": "stdout",
     "output_type": "stream",
     "text": [
      "Generated Song:\n",
      "\n",
      "\n",
      "Never gonna give you up <unk> a to strangers to you guy i the rules other im we <unk> play it and i im thinking im thinking me play it to so <unk> guy i so rules give give you cry im feeling <unk> <unk> give you cry never <unk> <unk> give you up never <unk> <unk> give around up never <unk> <unk> run around up never feeling <unk> tell <unk> make you cry never <unk> <unk> give around up never <unk> tell a lie im <unk> <unk> <unk> guy i other for so long me rules other too im to too shy to say\n"
     ]
    },
    {
     "name": "stderr",
     "output_type": "stream",
     "text": [
      " 52%|█████▏    | 52/100 [00:09<00:08,  5.77it/s]"
     ]
    },
    {
     "name": "stdout",
     "output_type": "stream",
     "text": [
      "Generated Song:\n",
      "\n",
      "\n",
      "We know the game and were gonna play it <unk> a to strangers to so guy i the rules other im we <unk> play it and i im thinking im thinking me play it to so <unk> guy i so rules give give you cry im feeling <unk> <unk> give you cry never <unk> <unk> give you up never <unk> <unk> give around up never <unk> <unk> run around up never feeling <unk> tell <unk> make you cry never <unk> <unk> give around up never <unk> tell a lie im <unk> <unk> <unk> guy i other for so long me rules other too im to too shy to say\n"
     ]
    },
    {
     "name": "stderr",
     "output_type": "stream",
     "text": [
      " 62%|██████▏   | 62/100 [00:11<00:07,  5.39it/s]"
     ]
    },
    {
     "name": "stdout",
     "output_type": "stream",
     "text": [
      "Generated Song:\n",
      "\n",
      "\n",
      "I just wanna tell you how Im feeling <unk> a to strangers to so guy i the rules other im we <unk> play it and i im thinking im thinking me play it to so <unk> guy i so rules give give you cry im feeling <unk> <unk> give you cry never <unk> <unk> give you up never <unk> <unk> give around up never <unk> <unk> run around up never feeling <unk> tell <unk> make you cry never <unk> <unk> give around up never <unk> tell a lie im <unk> <unk> <unk> guy i other for so long me strangers other too im to too shy to say\n"
     ]
    },
    {
     "name": "stderr",
     "output_type": "stream",
     "text": [
      " 72%|███████▏  | 72/100 [00:13<00:05,  5.44it/s]"
     ]
    },
    {
     "name": "stdout",
     "output_type": "stream",
     "text": [
      "Generated Song:\n",
      "\n",
      "\n",
      "Never gonna give you up <unk> a to strangers to so guy i the rules other im we <unk> play it and i im thinking im thinking me play it to so <unk> guy i so rules give give you cry im feeling <unk> <unk> give you cry never <unk> <unk> give you up never <unk> <unk> give around up never <unk> <unk> run around up never feeling <unk> tell <unk> make you cry never <unk> <unk> give around up never <unk> tell a lie im <unk> <unk> <unk> guy i other for so long me strangers other too im to too shy to say\n"
     ]
    },
    {
     "name": "stderr",
     "output_type": "stream",
     "text": [
      " 82%|████████▏ | 82/100 [00:15<00:03,  5.52it/s]"
     ]
    },
    {
     "name": "stdout",
     "output_type": "stream",
     "text": [
      "Generated Song:\n",
      "\n",
      "\n",
      "Never gonna let you down <unk> a to strangers to so guy i the rules other im we <unk> play it and i im thinking im thinking me play it to so <unk> guy i so rules give give you cry im feeling <unk> <unk> give you cry never <unk> <unk> give you up never <unk> <unk> give around up never <unk> <unk> run around up never feeling <unk> tell <unk> make you cry never <unk> <unk> give around up never <unk> tell a lie im <unk> <unk> <unk> guy i other for so long me strangers other too im to too shy to say\n"
     ]
    },
    {
     "name": "stderr",
     "output_type": "stream",
     "text": [
      " 92%|█████████▏| 92/100 [00:17<00:01,  4.95it/s]"
     ]
    },
    {
     "name": "stdout",
     "output_type": "stream",
     "text": [
      "Generated Song:\n",
      "\n",
      "\n",
      "We know the game and were gonna play it <unk> a to strangers to so guy i the rules other im we <unk> play it and i im thinking im thinking me play it to so <unk> guy i so rules give give you cry im feeling <unk> <unk> give you cry never <unk> <unk> give you up never <unk> <unk> give around up never <unk> <unk> run around up never feeling <unk> tell <unk> make you cry never <unk> <unk> give around up never <unk> tell a lie im <unk> <unk> <unk> guy i other for so long me strangers other too im to too shy to say\n"
     ]
    },
    {
     "name": "stderr",
     "output_type": "stream",
     "text": [
      "100%|██████████| 100/100 [00:18<00:00,  5.36it/s]\n"
     ]
    }
   ],
   "source": [
    "CONTEXT_SIZE=8\n",
    "model_8 = NGramLanguageModeler(len(vocab), EMBEDDING_DIM, CONTEXT_SIZE).to(device)\n",
    "optimizer = optim.SGD(model_8.parameters(), lr=0.01)\n",
    "\n",
    "scheduler = torch.optim.lr_scheduler.StepLR(optimizer, 1.0, gamma=0.1)\n",
    "my_loss=train(dataloader,model_8,song)\n",
    "\n",
    "save_path = '8gram.pth'\n",
    "torch.save(model_8.state_dict(), save_path)\n",
    "\n",
    "my_loss_list.append(my_loss)"
   ]
  },
  {
   "cell_type": "markdown",
   "metadata": {},
   "source": [
    "The code provided below shows word embeddings from the created model, reduces their dimensionality to 2D using t-SNE, and then plots them as a scatter plot. Additionally, it annotates the first 20 points in the visualization with their corresponding words. This is used to visualize how similar words cluster together in a lower-dimensional space, revealing the structure of the word embeddings. Embeddings allow the model to represent words in a continuous vector space, capturing semantic relationships and similarities between words.\n"
   ]
  },
  {
   "cell_type": "code",
   "execution_count": 42,
   "metadata": {},
   "outputs": [
    {
     "data": {
      "image/png": "[encoded data removed]",
      "text/plain": [
       "<Figure size 640x480 with 1 Axes>"
      ]
     },
     "metadata": {},
     "output_type": "display_data"
    }
   ],
   "source": [
    "X = model_8.embeddings.weight.cpu().detach().numpy()\n",
    "tsne = TSNE(n_components=2, random_state=42)\n",
    "X_2d = tsne.fit_transform(X)\n",
    "\n",
    "labels = []\n",
    "\n",
    "for j in range(len(X_2d)):\n",
    "    if j < 20:\n",
    "        plt.scatter(X_2d[j, 0], X_2d[j, 1], label=index_to_token[j])\n",
    "        labels.append(index_to_token[j])\n",
    "        # Add words as annotations\n",
    "        plt.annotate(index_to_token[j],\n",
    "                     (X_2d[j, 0], X_2d[j, 1]),\n",
    "                     textcoords=\"offset points\",\n",
    "                     xytext=(0, 10),\n",
    "                     ha='center')\n",
    "    else:\n",
    "        plt.scatter(X_2d[j, 0], X_2d[j, 1])\n",
    "\n",
    "plt.legend(labels, loc='upper left', bbox_to_anchor=(1, 1))\n",
    "plt.show()"
   ]
  },
  {
   "cell_type": "markdown",
   "metadata": {},
   "source": [
    "When considering the plotted loss for each model, a discernible trend emerges: an increase in context size correlates with a reduction in loss. While this specific approach lacks the inclusion of model validation or the utilization of conventional NLP evaluation metrics, the visual evidence substantiates its superior performance. \n"
   ]
  },
  {
   "cell_type": "code",
   "execution_count": 43,
   "metadata": {},
   "outputs": [
    {
     "data": {
      "image/png": "[encoded data removed]",
      "text/plain": [
       "<Figure size 640x480 with 1 Axes>"
      ]
     },
     "metadata": {},
     "output_type": "display_data"
    }
   ],
   "source": [
    "for (my_loss, model_name)in zip(my_loss_list,[\"2-gram\",\"4-gram\",\"8-gram\"]):\n",
    "    plt.plot(my_loss,label=\"Cross-entropy Loss - {}\".format(model_name))\n",
    "    plt.legend()"
   ]
  },
  {
   "cell_type": "markdown",
   "metadata": {},
   "source": [
    "## Perplexity\n",
    "Perplexity is a measurement used to evaluate the effectiveness of language models or probability models. It provides an indication of how well a model predicts a sample of data or the likelihood of an unseen event. Perplexity is commonly used in natural language processing tasks, such as machine translation, speech recognition, and language generation.\n",
    "\n",
    "Perplexity is derived from the concept of cross-entropy loss, which measures the dissimilarity between predicted probabilities and actual probabilities. \n",
    "\n",
    "$$\\text{Cross-Entropy Loss} = -\\sum_{i=1}^{N} y_i \\ln(p_i)$$\n",
    "The cross-entropy loss is calculated by taking the negative sum of the products of the true labels $y_i$ and the logarithm of the predicted probabilities $p_i$ over $N$ classes.\n",
    "\n",
    "Taking the exponential of the mean cross-entropy loss gives us the perplexity value.\n",
    "\n",
    "$$\\text{Perplexity} = e^{\\frac{1}{N} \\text{Cross-Entropy Loss}}$$\n",
    "\n",
    "\n",
    "A lower perplexity value indicates that the model is more confident and accurate in predicting the data. Conversely, a higher perplexity suggests that the model is less certain and less accurate in its predictions.\n",
    "\n",
    "Perplexity can be seen as an estimate of the average number of choices the model has for the next word or event in a sequence. A lower perplexity means that the model is more certain about the next word, while a higher perplexity means that there are more possible choices.\n"
   ]
  },
  {
   "cell_type": "code",
   "execution_count": 44,
   "metadata": {},
   "outputs": [
    {
     "data": {
      "image/png": "[encoded data removed]",
      "text/plain": [
       "<Figure size 640x480 with 1 Axes>"
      ]
     },
     "metadata": {},
     "output_type": "display_data"
    }
   ],
   "source": [
    "for (my_loss, model_name)in zip(my_loss_list,[\"2-gram\",\"4-gram\",\"8-gram\"]):\n",
    "    # Calculate perplexity using the loss\n",
    "    perplexity = np.exp(my_loss)\n",
    "    plt.plot(perplexity,label=\"Perplexity - {}\".format(model_name))\n",
    "    plt.legend()"
   ]
  },
  {
   "cell_type": "markdown",
   "metadata": {},
   "source": [
    "# Exercises\n"
   ]
  },
  {
   "cell_type": "markdown",
   "metadata": {},
   "source": [
    "### Exercise 1 - Source a collection of nursery rhymes and compile them into a single text variable.\n"
   ]
  },
  {
   "cell_type": "code",
   "execution_count": 46,
   "metadata": {},
   "outputs": [],
   "source": [
    "# Write your code here.\n",
    "nursery_rhymes = \"\"\"\n",
    "Little Miss Muffet\n",
    "Sat on a tuffet,\n",
    "Eating her curds and whey;\n",
    "Along came a spider\n",
    "Who sat down beside her\n",
    "And frightened Miss Muffet away.\n",
    "\n",
    "Twinkle, twinkle, little star,\n",
    "How I wonder what you are!\n",
    "Up above the world so high,\n",
    "Like a diamond in the sky.\n",
    "\n",
    "Baa, baa, black sheep,\n",
    "Have you any wool?\n",
    "Yes sir, yes sir,\n",
    "Three bags full.\n",
    "\n",
    "Jack and Jill went up the hill\n",
    "To fetch a pail of water.\n",
    "Jack fell down and broke his crown,\n",
    "And Jill came tumbling after.\n",
    "\n",
    "Hickory dickory dock,\n",
    "The mouse ran up the clock.\n",
    "The clock struck one,\n",
    "The mouse ran down,\n",
    "Hickory dickory dock.\n",
    "\n",
    "Humpty Dumpty sat on a wall,\n",
    "Humpty Dumpty had a great fall.\n",
    "All the king's horses and all the king's men\n",
    "Couldn't put Humpty together again.\n",
    "\n",
    "Mary had a little lamb,\n",
    "Its fleece was white as snow;\n",
    "And everywhere that Mary went,\n",
    "The lamb was sure to go.\n",
    "\n",
    "Old MacDonald had a farm,\n",
    "E-I-E-I-O,\n",
    "And on his farm he had a cow,\n",
    "E-I-E-I-O.\n",
    "\n",
    "Itsy Bitsy Spider climbed up the waterspout.\n",
    "Down came the rain and washed the spider out.\n",
    "Out came the sun and dried up all the rain,\n",
    "And the Itsy Bitsy Spider climbed up the spout again.\n",
    "\n",
    "The wheels on the bus go round and round,\n",
    "Round and round,\n",
    "Round and round.\n",
    "The wheels on the bus go round and round,\n",
    "All through the town.\n",
    "\n",
    "\"\"\""
   ]
  },
  {
   "cell_type": "markdown",
   "metadata": {},
   "source": [
    "<details>\n",
    "    <summary>Click here for Solution</summary>\n",
    "\n",
    "```python\n",
    "nursery_rhymes = \"\"\"\n",
    "Little Miss Muffet\n",
    "Sat on a tuffet,\n",
    "Eating her curds and whey;\n",
    "Along came a spider\n",
    "Who sat down beside her\n",
    "And frightened Miss Muffet away.\n",
    "\n",
    "Twinkle, twinkle, little star,\n",
    "How I wonder what you are!\n",
    "Up above the world so high,\n",
    "Like a diamond in the sky.\n",
    "\n",
    "Baa, baa, black sheep,\n",
    "Have you any wool?\n",
    "Yes sir, yes sir,\n",
    "Three bags full.\n",
    "\n",
    "Jack and Jill went up the hill\n",
    "To fetch a pail of water.\n",
    "Jack fell down and broke his crown,\n",
    "And Jill came tumbling after.\n",
    "\n",
    "Hickory dickory dock,\n",
    "The mouse ran up the clock.\n",
    "The clock struck one,\n",
    "The mouse ran down,\n",
    "Hickory dickory dock.\n",
    "\n",
    "Humpty Dumpty sat on a wall,\n",
    "Humpty Dumpty had a great fall.\n",
    "All the king's horses and all the king's men\n",
    "Couldn't put Humpty together again.\n",
    "\n",
    "Mary had a little lamb,\n",
    "Its fleece was white as snow;\n",
    "And everywhere that Mary went,\n",
    "The lamb was sure to go.\n",
    "\n",
    "Old MacDonald had a farm,\n",
    "E-I-E-I-O,\n",
    "And on his farm he had a cow,\n",
    "E-I-E-I-O.\n",
    "\n",
    "Itsy Bitsy Spider climbed up the waterspout.\n",
    "Down came the rain and washed the spider out.\n",
    "Out came the sun and dried up all the rain,\n",
    "And the Itsy Bitsy Spider climbed up the spout again.\n",
    "\n",
    "The wheels on the bus go round and round,\n",
    "Round and round,\n",
    "Round and round.\n",
    "The wheels on the bus go round and round,\n",
    "All through the town.\n",
    "\n",
    "\"\"\"\n",
    "```\n",
    "\n",
    "</details>\n"
   ]
  },
  {
   "cell_type": "markdown",
   "metadata": {},
   "source": [
    "### Exercise 2 - Preprocess the text data to tokenize and create n-grams.\n"
   ]
  },
  {
   "cell_type": "code",
   "execution_count": 48,
   "metadata": {},
   "outputs": [],
   "source": [
    "# Write your code here.\n",
    "N=2\n",
    "tokens = preprocess(nursery_rhymes)\n",
    "ngrams = genngrams(tokens)\n",
    "context, target = ngrams[0]"
   ]
  },
  {
   "cell_type": "code",
   "execution_count": null,
   "metadata": {},
   "outputs": [],
   "source": []
  },
  {
   "cell_type": "markdown",
   "metadata": {},
   "source": [
    "<details>\n",
    "    <summary>Click here for Solution</summary>\n",
    "\n",
    "```python\n",
    "# Define the value of N for N-grams (context size)\n",
    "N = 2  \n",
    "\n",
    "# Preprocess the text (e.g., nursery rhymes) to tokenize and clean it\n",
    "tokens = preprocess(nursery_rhymes)  # Use the preprocess function to tokenize the text\n",
    "\n",
    "# Generate N-grams using the `genngrams` function\n",
    "ngrams = genngrams(tokens)  \n",
    "\n",
    "# Extract the first context-target pair from the list of N-grams\n",
    "context, target = ngrams[0]  \n",
    "```\n",
    "\n",
    "</details>\n"
   ]
  },
  {
   "cell_type": "markdown",
   "metadata": {},
   "source": [
    "### Exercise 3 - Convert Context Words into Embeddings and Pass Them Through a Linear Layer\n"
   ]
  },
  {
   "cell_type": "code",
   "execution_count": 50,
   "metadata": {},
   "outputs": [
    {
     "name": "stdout",
     "output_type": "stream",
     "text": [
      "Output shape: torch.Size([1, 128])\n"
     ]
    }
   ],
   "source": [
    "# Write your code here.\n",
    "vocab = tokenizetext(nursery_rhymes) \n",
    "embedding_dim=20 \n",
    "linear = nn.Linear(embedding_dim*CONTEXT_SIZE,128) \n",
    "embeddings = genembedding(vocab)\n",
    "my_embeddings = embeddings(torch.tensor(vocab(context)))\n",
    "my_embeddings = my_embeddings.reshape(1,-1) \n",
    "output = linear(my_embeddings) \n",
    "print(\"Output shape:\", output.shape)  "
   ]
  },
  {
   "cell_type": "markdown",
   "metadata": {},
   "source": [
    "<details>\n",
    "    <summary>Click here for Solution</summary>\n",
    "\n",
    "```python\n",
    "\n",
    "# Tokenize text and create vocabulary\n",
    "vocab = tokenizetext(nursery_rhymes)  \n",
    "\n",
    "\n",
    "# Define embedding dimensions and create layers\n",
    "embedding_dim = 20  # Each word will be represented as a 20-dimensional vector\n",
    "linear = nn.Linear(embedding_dim * CONTEXT_SIZE, 128)  \n",
    "\n",
    "\n",
    "# Generate embeddings using the custom embedding function\n",
    "embeddings = genembedding(vocab)  \n",
    "\n",
    "\n",
    "# Convert context words into embeddings\n",
    "my_embeddings = embeddings(torch.tensor(vocab(context)))  \n",
    "\n",
    "\n",
    "# Reshape embeddings to match the input shape required by the linear layer\n",
    "my_embeddings = my_embeddings.reshape(1, -1)  \n",
    "\n",
    "\n",
    "# Pass embeddings through the linear layer\n",
    "output = linear(my_embeddings)  \n",
    "\n",
    "\n",
    "# Print output shape for verification\n",
    "print(\"Output shape:\", output.shape)  \n",
    "\n",
    "\n",
    "\n",
    "```\n",
    "\n",
    "</details>\n"
   ]
  },
  {
   "cell_type": "markdown",
   "metadata": {},
   "source": [
    "### Exercise 4 -  Implement Batch Processing with Padding for Language Modeling.\n"
   ]
  },
  {
   "cell_type": "code",
   "execution_count": 51,
   "metadata": {},
   "outputs": [
    {
     "name": "stdout",
     "output_type": "stream",
     "text": [
      "Total tokens (after padding): 240\n"
     ]
    }
   ],
   "source": [
    "# Write your code here.\n",
    "\n",
    "CONTEXT_SIZE=3 \n",
    "BATCH_SIZE=10 \n",
    "EMBEDDING_DIM =10 \n",
    "Padding = BATCH_SIZE - len(tokens) % BATCH_SIZE\n",
    "\n",
    "tokens_pad = tokens + tokens[0:Padding] \n",
    "device = torch.device(\"cuda\" if torch.cuda.is_available() else \"cpu\")  \n",
    "\n",
    "dataloader = DataLoader(tokens_pad, batch_size=BATCH_SIZE, shuffle=False, collate_fn=collate_batch)\n",
    "\n",
    "print(f\"Total tokens (after padding): {len(tokens_pad)}\")"
   ]
  },
  {
   "cell_type": "markdown",
   "metadata": {},
   "source": [
    "<details>\n",
    "    <summary>Click here for Solution</summary>\n",
    "\n",
    "```python\n",
    "# Define constants for training\n",
    "CONTEXT_SIZE = 3  # The number of words in the context window\n",
    "BATCH_SIZE = 10   # The number of samples per batch\n",
    "EMBEDDING_DIM = 10  # The dimension of the word embeddings\n",
    "\n",
    "# Compute padding to ensure the number of tokens is evenly divisible by the batch size\n",
    "Padding = BATCH_SIZE - len(tokens) % BATCH_SIZE  \n",
    "\n",
    "\n",
    "tokens_pad = tokens + tokens[0:Padding]  \n",
    "\n",
    "\n",
    "# Define device (CPU/GPU) for computation\n",
    "device = torch.device(\"cuda\" if torch.cuda.is_available() else \"cpu\")  \n",
    "\n",
    "\n",
    "# Create DataLoader for batch processing\n",
    "dataloader = DataLoader(\n",
    "    tokens_pad, batch_size=BATCH_SIZE, shuffle=False, collate_fn=collate_batch\n",
    ")  \n",
    "\n",
    "\n",
    "# Print length of total tokens after padding\n",
    "print(f\"Total tokens (after padding): {len(tokens_pad)}\")\n",
    "\n",
    "\n",
    "```\n",
    "\n",
    "</details>\n"
   ]
  },
  {
   "cell_type": "markdown",
   "metadata": {},
   "source": [
    "### Exercise 5 - Train an N-gram language model using the provided code structure.\n"
   ]
  },
  {
   "cell_type": "code",
   "execution_count": 52,
   "metadata": {},
   "outputs": [
    {
     "name": "stderr",
     "output_type": "stream",
     "text": [
      "  2%|▏         | 2/100 [00:00<00:16,  5.80it/s]"
     ]
    },
    {
     "name": "stdout",
     "output_type": "stream",
     "text": [
      "Generated Song:\n",
      "\n",
      "\n",
      "And the Itsy Bitsy Spider climbed up the spout again. one s spout had had spout three spider spider s you water spout so spout twinkle fleece snow spout you one to all macdonald tuffet had dock twinkle twinkle twinkle snow away spout itsy s to itsy spider world spider s to struck on twinkle spider full old <unk> you out high spider s on itsy you macdonald to s to itsy you had on full spider spider s spout <unk> was spider s was s ran spout full he macdonald on spout twinkle one spider spider twinkle on spider spider spider rain spout spider spider spout s had s\n"
     ]
    },
    {
     "name": "stderr",
     "output_type": "stream",
     "text": [
      " 12%|█▏        | 12/100 [00:01<00:15,  5.76it/s]"
     ]
    },
    {
     "name": "stdout",
     "output_type": "stream",
     "text": [
      "Generated Song:\n",
      "\n",
      "\n",
      "Round and round. the the the the the the the the the the the the the the the the the the the the the the the the the the the the the the the the the the the the the the the the the the the the the the the the the the the the the the the the the the the the the the the the the the the the the the the the the the the the the the the the the the the and the the the the the the the the the the the the the the the the\n"
     ]
    },
    {
     "name": "stderr",
     "output_type": "stream",
     "text": [
      " 22%|██▏       | 22/100 [00:03<00:12,  6.30it/s]"
     ]
    },
    {
     "name": "stdout",
     "output_type": "stream",
     "text": [
      "Generated Song:\n",
      "\n",
      "\n",
      "Yes sir, yes sir, the the the the and the the spider the the the the the a the the the and the the the the the the and the and and and and the the the the the the the the the the the the the the the the the and and the a a the the the the the the the the the the and the and the the the the the the the the the the the and and the the the the the and the the the the the the the the the the the the the the and the\n"
     ]
    },
    {
     "name": "stderr",
     "output_type": "stream",
     "text": [
      " 32%|███▏      | 32/100 [00:04<00:10,  6.50it/s]"
     ]
    },
    {
     "name": "stdout",
     "output_type": "stream",
     "text": [
      "Generated Song:\n",
      "\n",
      "\n",
      "Who sat down beside her the the and the and a the spider a the the the the a a the and and and and the the round the and the and and and and the the the the the the the the the and the the and a the the the and a and a a the the the the the the the the the the and and and the the the the the a the the the a the and and the the the the a and round the the round the the the the spider ran the the the the and the\n"
     ]
    },
    {
     "name": "stderr",
     "output_type": "stream",
     "text": [
      " 42%|████▏     | 42/100 [00:06<00:11,  5.25it/s]"
     ]
    },
    {
     "name": "stdout",
     "output_type": "stream",
     "text": [
      "Generated Song:\n",
      "\n",
      "\n",
      "Like a diamond in the sky. and the and and on a the humpty a the a on the a a spider and and round and the the round the and and twinkle and and and the the the the the and the the the and the round round a the the the and a and a a the the the the the the the the the the and round and round the the the the a the the the a a and and a and the the a and round the the round the the the a spider ran the the the the clock the\n"
     ]
    },
    {
     "name": "stderr",
     "output_type": "stream",
     "text": [
      " 51%|█████     | 51/100 [00:07<00:07,  6.20it/s]"
     ]
    },
    {
     "name": "stdout",
     "output_type": "stream",
     "text": [
      "Generated Song:\n",
      "\n",
      "\n",
      "Baa, baa, black sheep, and the and and on a the humpty on the a on the a a spider and and round and the the round the and and twinkle and and and the the the the the and the the the and the round round a the the the and a and a a the the the the the the the the the the and round and round the the the the a the the the a a and and a and the the a and round the the round the up the a mouse ran up the the the clock the\n"
     ]
    },
    {
     "name": "stderr",
     "output_type": "stream",
     "text": [
      " 62%|██████▏   | 62/100 [00:09<00:06,  5.91it/s]"
     ]
    },
    {
     "name": "stdout",
     "output_type": "stream",
     "text": [
      "Generated Song:\n",
      "\n",
      "\n",
      "And everywhere that Mary went, and miss and and on a the humpty on the a on came a a spider and and round and the humpty round the muffet and twinkle and and and and the the up the and the the the and the all round a the the the and a baa baa a the the all the the sir the the the king spider round and round the up the clock a the a the baa a and and a and the the a and round the the round hickory up up humpty mouse ran up the clock the clock the\n"
     ]
    },
    {
     "name": "stderr",
     "output_type": "stream",
     "text": [
      " 72%|███████▏  | 72/100 [00:11<00:04,  6.57it/s]"
     ]
    },
    {
     "name": "stdout",
     "output_type": "stream",
     "text": [
      "Generated Song:\n",
      "\n",
      "\n",
      "Like a diamond in the sky. and miss and sat on a spider humpty on curds a on came a a spider climbed and round and the humpty round the muffet sat twinkle and and and and the the up you are the the the king was clock round a the the the and baa baa baa a up you all the the sir the the the king spider round and jill the up the clock a the a the baa a jack and a and the the a and jill the the round hickory up dumpty humpty mouse ran up the clock the clock the\n"
     ]
    },
    {
     "name": "stderr",
     "output_type": "stream",
     "text": [
      " 82%|████████▏ | 82/100 [00:12<00:03,  5.68it/s]"
     ]
    },
    {
     "name": "stdout",
     "output_type": "stream",
     "text": [
      "Generated Song:\n",
      "\n",
      "\n",
      "How I wonder what you are! and miss muffet sat on a spider humpty on curds a on came a a spider <unk> and round and the humpty round miss muffet sat twinkle twinkle and and and the the up you are the the the king was clock round a the the the and baa baa baa a sir you all up the sir the sir the king full jack and jill the up the clock baa up a the baa a jack and a and the the crown and jill the the after hickory dickory dumpty humpty mouse ran up the clock the clock the\n"
     ]
    },
    {
     "name": "stderr",
     "output_type": "stream",
     "text": [
      " 92%|█████████▏| 92/100 [00:14<00:01,  6.50it/s]"
     ]
    },
    {
     "name": "stdout",
     "output_type": "stream",
     "text": [
      "Generated Song:\n",
      "\n",
      "\n",
      "The wheels on the bus go round and round, and miss muffet sat on a spider humpty on curds fleece on came a a spider <unk> sat down and the humpty frightened miss muffet sat twinkle twinkle and and and the wonder up you are the the the world was clock round a the the the and baa baa baa a sir you all up yes sir the sir the king full jack and jill the up the clock baa up a pail of a jack and down and the the crown and jill the the after hickory dickory dumpty humpty mouse ran up the clock the clock the\n"
     ]
    },
    {
     "name": "stderr",
     "output_type": "stream",
     "text": [
      "100%|██████████| 100/100 [00:15<00:00,  6.47it/s]"
     ]
    },
    {
     "name": "stdout",
     "output_type": "stream",
     "text": [
      "Training started with 127 words in vocabulary.\n",
      "Optimizer: SGD (\n",
      "Parameter Group 0\n",
      "    dampening: 0\n",
      "    differentiable: False\n",
      "    foreach: None\n",
      "    initial_lr: 0.01\n",
      "    lr: 0.01\n",
      "    maximize: False\n",
      "    momentum: 0\n",
      "    nesterov: False\n",
      "    weight_decay: 0\n",
      ")\n",
      "Learning rate scheduler: <torch.optim.lr_scheduler.StepLR object at 0x78d5a99fe480>\n"
     ]
    },
    {
     "name": "stderr",
     "output_type": "stream",
     "text": [
      "\n"
     ]
    }
   ],
   "source": [
    "# Write your code here.\n",
    "CONTEXT_SIZE = 2 \n",
    "criterion = torch.nn.CrossEntropyLoss() \n",
    "model3 = NGramLanguageModeler(len(vocab), EMBEDDING_DIM, CONTEXT_SIZE).to(device)  \n",
    "# Define the optimizer (Stochastic Gradient Descent)\n",
    "optimizer = optim.SGD(model3.parameters(), lr=0.01)  \n",
    "\n",
    "# Implement Learning Rate Scheduling\n",
    "scheduler = torch.optim.lr_scheduler.StepLR(optimizer, step_size=1, gamma=0.1)  \n",
    "\n",
    "# Train the model and track loss history\n",
    "loss_history = train(dataloader, model3, nursery_rhymes)  \n",
    "\n",
    "\n",
    "# Output expected behavior\n",
    "print(f\"Training started with {len(vocab)} words in vocabulary.\")\n",
    "print(f\"Optimizer: {optimizer}\")\n",
    "print(f\"Learning rate scheduler: {scheduler}\")\n"
   ]
  },
  {
   "cell_type": "markdown",
   "metadata": {},
   "source": [
    "<details>\n",
    "    <summary>Click here for Solution</summary>\n",
    "\n",
    "```python\n",
    "# Define context size for N-gram modeling\n",
    "CONTEXT_SIZE = 2  # Number of previous words used as context for predicting the next word\n",
    "\n",
    "# Define the loss function\n",
    "criterion = torch.nn.CrossEntropyLoss()  \n",
    "\n",
    "# Initialize the N-gram language model\n",
    "model3 = NGramLanguageModeler(len(vocab), EMBEDDING_DIM, CONTEXT_SIZE).to(device)  \n",
    "\n",
    "\n",
    "# Define the optimizer (Stochastic Gradient Descent)\n",
    "optimizer = optim.SGD(model3.parameters(), lr=0.01)  \n",
    "\n",
    "# Implement Learning Rate Scheduling\n",
    "scheduler = torch.optim.lr_scheduler.StepLR(optimizer, step_size=1, gamma=0.1)  \n",
    "\n",
    "# Train the model and track loss history\n",
    "loss_history = train(dataloader, model3, nursery_rhymes)  \n",
    "\n",
    "\n",
    "# Output expected behavior\n",
    "print(f\"Training started with {len(vocab)} words in vocabulary.\")\n",
    "print(f\"Optimizer: {optimizer}\")\n",
    "print(f\"Learning rate scheduler: {scheduler}\")\n",
    "```\n",
    "\n",
    "</details>\n"
   ]
  },
  {
   "cell_type": "markdown",
   "metadata": {},
   "source": [
    "### Exercise 6 - After training, use the model to generate a new nursery rhyme and then print it.\n"
   ]
  },
  {
   "cell_type": "code",
   "execution_count": 53,
   "metadata": {},
   "outputs": [
    {
     "name": "stdout",
     "output_type": "stream",
     "text": [
      "Sat on a tuffet, and miss muffet sat on a spider humpty a curds fleece on came a a spider <unk> sat down and the humpty frightened miss muffet sat twinkle twinkle and and and the wonder up you are the the the world was clock <unk> a the in the and baa baa baa a sir you any up yes sir the sir the king full jack and jill the up the clock baa up a pail of a jack fell down and the the crown and jill the tumbling after hickory dickory dumpty humpty mouse ran down the clock the clock the\n"
     ]
    }
   ],
   "source": [
    "# Write your code here.\n",
    "# Select a random line from the nursery rhymes dataset\n",
    "selected_line = pickrandomline(nursery_rhymes)  \n",
    "\n",
    "\n",
    "# Generate a new rhyme using the trained language model\n",
    "generated_rhyme = write_song(model3, selected_line)  \n",
    "\n",
    "\n",
    "# Print the generated rhyme\n",
    "print(generated_rhyme) \n",
    "\n"
   ]
  },
  {
   "cell_type": "markdown",
   "metadata": {},
   "source": [
    "<details>\n",
    "    <summary>Click here for Solution</summary>\n",
    "\n",
    "```python\n",
    "# Select a random line from the nursery rhymes dataset\n",
    "selected_line = pickrandomline(nursery_rhymes)  \n",
    "\n",
    "\n",
    "# Generate a new rhyme using the trained language model\n",
    "generated_rhyme = write_song(model3, selected_line)  \n",
    "\n",
    "\n",
    "# Print the generated rhyme\n",
    "print(generated_rhyme) \n",
    "\n",
    "```\n",
    "\n",
    "</details>\n"
   ]
  },
  {
   "cell_type": "markdown",
   "metadata": {},
   "source": [
    "---\n"
   ]
  },
  {
   "cell_type": "markdown",
   "metadata": {},
   "source": [
    "# Congratulations! You have completed the lab\n"
   ]
  },
  {
   "cell_type": "markdown",
   "metadata": {},
   "source": [
    "## Authors\n"
   ]
  },
  {
   "cell_type": "markdown",
   "metadata": {},
   "source": [
    "[Joseph Santarcangelo](https://www.linkedin.com/in/joseph-s-50398b136/) has a Ph.D. in Electrical Engineering, his research focused on using machine learning, signal processing, and computer vision to determine how videos impact human cognition. Joseph has been working for IBM since he completed his PhD.\n"
   ]
  },
  {
   "cell_type": "markdown",
   "metadata": {},
   "source": [
    "### Contributor\n",
    "\n",
    "[Roodra Kanwar](https://www.linkedin.com/in/roodrakanwar/) is completing his MS in CS specializing in big data from Simon Fraser University. He has previous experience working with machine learning and as a data engineer.\n"
   ]
  },
  {
   "cell_type": "markdown",
   "metadata": {},
   "source": [
    "```{## Change log}\n"
   ]
  },
  {
   "cell_type": "markdown",
   "metadata": {},
   "source": [
    "```{|Date (YYYY-MM-DD)|Version|Changed By|Change Description||-|-|-|-||2023-09-01|0.1|Joseph|Created Lab Template & Guided Project||2023-09-03|0.1|Joseph|Updated Guided Project|}\n"
   ]
  },
  {
   "cell_type": "markdown",
   "metadata": {},
   "source": [
    "© Copyright IBM Corporation. All rights reserved.\n"
   ]
  }
 ],
 "metadata": {
  "kernelspec": {
   "display_name": "Python 3 (ipykernel)",
   "language": "python",
   "name": "python3"
  },
  "language_info": {
   "codemirror_mode": {
    "name": "ipython",
    "version": 3
   },
   "file_extension": ".py",
   "mimetype": "text/x-python",
   "name": "python",
   "nbconvert_exporter": "python",
   "pygments_lexer": "ipython3",
   "version": "3.12.8"
  },
  "prev_pub_hash": "81020b346126e8268ecd0bbe106c525c2d52941722854700dee67a50af8be4b0"
 },
 "nbformat": 4,
 "nbformat_minor": 4
}
